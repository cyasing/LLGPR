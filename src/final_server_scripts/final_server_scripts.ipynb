{
 "cells": [
  {
   "cell_type": "code",
   "execution_count": 1,
   "metadata": {},
   "outputs": [
    {
     "name": "stdout",
     "output_type": "stream",
     "text": [
      "nx: 4444, ny: 1133, nz: 2222\n",
      "Domain: 200 x 51 x 100\n",
      "Base Permittivity of Moon: 3.682561\n",
      "Frequency: 100000000.0\n",
      "Wavelength: 0.7816571130797291\n",
      "Grid: 0.045 x 0.045 x 0.045\n",
      "Time Window: 6.396666666666666e-07\n"
     ]
    }
   ],
   "source": [
    "import pandas as pd\n",
    "import numpy as np\n",
    "\n",
    "scale = 1\n",
    "\n",
    "# Domain\n",
    "x = 200*scale\n",
    "z = 100*scale\n",
    "y_air = 1*scale\n",
    "y_moon = 50*scale\n",
    "y = y_moon + y_air\n",
    "\n",
    "\n",
    "y_cave = 10*scale\n",
    "x_co = 0.25*scale\n",
    "x_step = 0.09/scale\n",
    "y_gpr = 0.1*scale\n",
    "\n",
    "# Reglith Layer\n",
    "y_regolith = 4.5*scale\n",
    "\n",
    "# Crust Layer\n",
    "y_crust = y_moon - y_regolith\n",
    "\n",
    "# Frequency and Wavelength\n",
    "f_max = 2*100e6 # Maximum Relevant Frequency for the Ricker Wavelet\n",
    "c = 3e8\n",
    "\n",
    "# Permittivity and Density\n",
    "density = 2 # g/cm^3\n",
    "eps_bg = 1.919**density # Background Permittivity for Moon\n",
    "vel_bg = c / eps_bg**0.5\n",
    "\n",
    "lambda_0 = c / (f_max * eps_bg**0.5)\n",
    "\n",
    "# # Fresnel Zone - Radius\n",
    "# R = 0.5 * (lambda_0 * d)**0.5\n",
    "# y = 4 * R\n",
    "\n",
    "# Grid Descretization\n",
    "dx = np.round(lambda_0 / 17.3, 3)\n",
    "dy = np.round(lambda_0 / 17.3, 3)\n",
    "dz = np.round(lambda_0 / 17.3, 3)\n",
    "\n",
    "nx = int(x / dx)\n",
    "ny = int(y / dy)\n",
    "nz = int(z / dz)\n",
    "print(f\"nx: {nx}, ny: {ny}, nz: {nz}\")\n",
    "\n",
    "# x_grid, y_grid, z_grid = np.meshgrid(x_vals, y_vals, z_vals, indexing='xy')\n",
    "\n",
    "# Time Window\n",
    "time_window = 2 * y_moon / vel_bg\n",
    "\n",
    "# Print\n",
    "print(f\"Domain: {x} x {y} x {z}\")\n",
    "print(f\"Base Permittivity of Moon: {eps_bg}\")\n",
    "print(f\"Frequency: {f_max/2}\")\n",
    "print(f\"Wavelength: {lambda_0}\")\n",
    "# print(f\"Fresnel Zone Radius: {R}\")\n",
    "print(f\"Grid: {dx} x {dy} x {dz}\")\n",
    "print(f\"Time Window: {time_window}\")"
   ]
  },
  {
   "cell_type": "code",
   "execution_count": 2,
   "metadata": {},
   "outputs": [
    {
     "name": "stdout",
     "output_type": "stream",
     "text": [
      "y_regolith: 4.5\n",
      "y_crust: 45.5\n",
      "y_air: 1\n",
      "y_moon: 50\n",
      "y_cave: 10\n",
      "x_co: 0.25\n",
      "x_step: 0.09\n",
      "y_gpr: 0.1\n"
     ]
    }
   ],
   "source": [
    "print(f\"y_regolith: {y_regolith}\")\n",
    "print(f\"y_crust: {y_crust}\")\n",
    "print(f\"y_air: {y_air}\")\n",
    "print(f\"y_moon: {y_moon}\")\n",
    "print(f\"y_cave: {y_cave}\")\n",
    "print(f\"x_co: {x_co}\")\n",
    "print(f\"x_step: {x_step}\")\n",
    "print(f\"y_gpr: {y_gpr}\")"
   ]
  },
  {
   "cell_type": "code",
   "execution_count": 3,
   "metadata": {},
   "outputs": [
    {
     "name": "stdout",
     "output_type": "stream",
     "text": [
      "X_min: 35.02539050002815\n",
      "X_max: 164.97460949997185\n",
      "Y_min: 14.520020000000159\n",
      "Y_max: 40.0\n",
      "Z_min: 18.73046849993989\n",
      "Z_max: 81.26953150006011\n"
     ]
    },
    {
     "data": {
      "text/plain": [
       "'f:\\\\Projects\\\\LunarLeaper\\\\LLGPR\\\\src\\\\final_server_scripts\\\\LiDAR_InclineCave_TUBE_adjusted.vtu'"
      ]
     },
     "execution_count": 3,
     "metadata": {},
     "output_type": "execute_result"
    }
   ],
   "source": [
    "# Editing the Lava Tube Points to Comply with the Domain\n",
    "\n",
    "data_all = pd.read_csv('../../LavaTubeData/LiDAR_InclineCave_TUBE_TLS_points.txt', sep=' ', header=None)\n",
    "# Convert to numpy arrays X, Y, Z\n",
    "data_points = data_all.to_numpy()\n",
    "X = (data_points[:, 0])*scale\n",
    "Y = (data_points[:, 2])*scale\n",
    "Z = (data_points[:, 1])*scale\n",
    "\n",
    "# Find the minimum and maximum values of X, Y, Z, and find their index\n",
    "\n",
    "X_min_index = X.argmin() \n",
    "X_min = X[X_min_index]\n",
    "X_max_index = X.argmax()\n",
    "X_max = X[X_max_index]\n",
    "Y_min_index = Y.argmin()\n",
    "Y_min = Y[Y_min_index]\n",
    "Y_max_index = Y.argmax()\n",
    "Y_max = Y[Y_max_index]\n",
    "Z_min_index = Z.argmin()\n",
    "Z_min = Z[Z_min_index]\n",
    "Z_max_index = Z.argmax()\n",
    "Z_max = Z[Z_max_index]\n",
    "\n",
    "# Shift all points in X, Y, Z to the center of the domain\n",
    "X = X - X_min\n",
    "Y = Y - Y_min\n",
    "Z = Z - Z_min\n",
    "\n",
    "X_min_index = X.argmin() \n",
    "X_min = X[X_min_index]\n",
    "X_max_index = X.argmax()\n",
    "X_max = X[X_max_index]\n",
    "Y_min_index = Y.argmin()\n",
    "Y_min = Y[Y_min_index]\n",
    "Y_max_index = Y.argmax()\n",
    "Y_max = Y[Y_max_index]\n",
    "Z_min_index = Z.argmin()\n",
    "Z_min = Z[Z_min_index]\n",
    "Z_max_index = Z.argmax()\n",
    "Z_max = Z[Z_max_index]\n",
    "\n",
    "X = X - (X_min + X_max)/2 + x/2\n",
    "Y = Y - Y_max + y_moon - y_cave\n",
    "Z = Z - (Z_min + Z_max)/2 + z/2\n",
    "\n",
    "X_min_index = X.argmin() \n",
    "X_min = X[X_min_index]\n",
    "X_max_index = X.argmax()\n",
    "X_max = X[X_max_index]\n",
    "Y_min_index = Y.argmin()\n",
    "Y_min = Y[Y_min_index]\n",
    "Y_max_index = Y.argmax()\n",
    "Y_max = Y[Y_max_index]\n",
    "Z_min_index = Z.argmin()\n",
    "Z_min = Z[Z_min_index]\n",
    "Z_max_index = Z.argmax()\n",
    "Z_max = Z[Z_max_index]\n",
    "\n",
    "print(f\"X_min: {X_min}\")\n",
    "print(f\"X_max: {X_max}\")\n",
    "print(f\"Y_min: {Y_min}\")\n",
    "print(f\"Y_max: {Y_max}\")\n",
    "print(f\"Z_min: {Z_min}\")\n",
    "print(f\"Z_max: {Z_max}\")\n",
    "\n",
    "data_all_shifted = pd.DataFrame(np.column_stack((X, Y, Z)))\n",
    "data_all_shifted = data_all_shifted.to_numpy()\n",
    "\n",
    "# Save the new points to vtk\n",
    "from pyevtk.hl import pointsToVTK\n",
    "pointsToVTK(\"LiDAR_InclineCave_TUBE_adjusted\", X, Y, Z)"
   ]
  },
  {
   "cell_type": "code",
   "execution_count": 4,
   "metadata": {},
   "outputs": [],
   "source": [
    "from scipy.spatial import Delaunay\n",
    "\n",
    "permittivity_values = 7.6* np.ones_like(X)"
   ]
  },
  {
   "cell_type": "code",
   "execution_count": 5,
   "metadata": {},
   "outputs": [],
   "source": [
    "#Grid\n",
    "# x_val = np.linspace(0, x, 5)\n",
    "# z_val = np.linspace(0, z, 5)\n",
    "# y_val = np.linspace(0, y_moon, 5)\n",
    "x_val = np.linspace(0, x, int(nx*scale))\n",
    "z_val = np.linspace(0, z, int(ny*scale))\n",
    "y_val = np.linspace(0, y_moon, int(nz*scale))"
   ]
  },
  {
   "cell_type": "code",
   "execution_count": 6,
   "metadata": {},
   "outputs": [
    {
     "ename": "MemoryError",
     "evalue": "Unable to allocate 83.4 GiB for an array with shape (4444, 2222, 1133) and data type float64",
     "output_type": "error",
     "traceback": [
      "\u001b[1;31m---------------------------------------------------------------------------\u001b[0m",
      "\u001b[1;31mMemoryError\u001b[0m                               Traceback (most recent call last)",
      "Cell \u001b[1;32mIn[6], line 1\u001b[0m\n\u001b[1;32m----> 1\u001b[0m meshgrid_x, meshgrid_y, meshgrid_z \u001b[38;5;241m=\u001b[39m \u001b[43mnp\u001b[49m\u001b[38;5;241;43m.\u001b[39;49m\u001b[43mmeshgrid\u001b[49m\u001b[43m(\u001b[49m\u001b[43mx_val\u001b[49m\u001b[43m,\u001b[49m\u001b[43m \u001b[49m\u001b[43my_val\u001b[49m\u001b[43m,\u001b[49m\u001b[43m \u001b[49m\u001b[43mz_val\u001b[49m\u001b[43m,\u001b[49m\u001b[43m \u001b[49m\u001b[43mindexing\u001b[49m\u001b[38;5;241;43m=\u001b[39;49m\u001b[38;5;124;43m'\u001b[39;49m\u001b[38;5;124;43mij\u001b[39;49m\u001b[38;5;124;43m'\u001b[39;49m\u001b[43m)\u001b[49m\n\u001b[0;32m      2\u001b[0m points \u001b[38;5;241m=\u001b[39m np\u001b[38;5;241m.\u001b[39mvstack((meshgrid_x\u001b[38;5;241m.\u001b[39mflatten(), meshgrid_y\u001b[38;5;241m.\u001b[39mflatten(), meshgrid_z\u001b[38;5;241m.\u001b[39mflatten()))\u001b[38;5;241m.\u001b[39mT\n\u001b[0;32m      4\u001b[0m \u001b[38;5;66;03m# Create Delaunay triangulation\u001b[39;00m\n",
      "File \u001b[1;32mf:\\Projects\\LunarLeaper\\LLGPR\\.venv\\Lib\\site-packages\\numpy\\lib\\_function_base_impl.py:5387\u001b[0m, in \u001b[0;36mmeshgrid\u001b[1;34m(copy, sparse, indexing, *xi)\u001b[0m\n\u001b[0;32m   5384\u001b[0m     output \u001b[38;5;241m=\u001b[39m np\u001b[38;5;241m.\u001b[39mbroadcast_arrays(\u001b[38;5;241m*\u001b[39moutput, subok\u001b[38;5;241m=\u001b[39m\u001b[38;5;28;01mTrue\u001b[39;00m)\n\u001b[0;32m   5386\u001b[0m \u001b[38;5;28;01mif\u001b[39;00m copy:\n\u001b[1;32m-> 5387\u001b[0m     output \u001b[38;5;241m=\u001b[39m \u001b[38;5;28;43mtuple\u001b[39;49m\u001b[43m(\u001b[49m\u001b[43mx\u001b[49m\u001b[38;5;241;43m.\u001b[39;49m\u001b[43mcopy\u001b[49m\u001b[43m(\u001b[49m\u001b[43m)\u001b[49m\u001b[43m \u001b[49m\u001b[38;5;28;43;01mfor\u001b[39;49;00m\u001b[43m \u001b[49m\u001b[43mx\u001b[49m\u001b[43m \u001b[49m\u001b[38;5;129;43;01min\u001b[39;49;00m\u001b[43m \u001b[49m\u001b[43moutput\u001b[49m\u001b[43m)\u001b[49m\n\u001b[0;32m   5389\u001b[0m \u001b[38;5;28;01mreturn\u001b[39;00m output\n",
      "File \u001b[1;32mf:\\Projects\\LunarLeaper\\LLGPR\\.venv\\Lib\\site-packages\\numpy\\lib\\_function_base_impl.py:5387\u001b[0m, in \u001b[0;36m<genexpr>\u001b[1;34m(.0)\u001b[0m\n\u001b[0;32m   5384\u001b[0m     output \u001b[38;5;241m=\u001b[39m np\u001b[38;5;241m.\u001b[39mbroadcast_arrays(\u001b[38;5;241m*\u001b[39moutput, subok\u001b[38;5;241m=\u001b[39m\u001b[38;5;28;01mTrue\u001b[39;00m)\n\u001b[0;32m   5386\u001b[0m \u001b[38;5;28;01mif\u001b[39;00m copy:\n\u001b[1;32m-> 5387\u001b[0m     output \u001b[38;5;241m=\u001b[39m \u001b[38;5;28mtuple\u001b[39m(\u001b[43mx\u001b[49m\u001b[38;5;241;43m.\u001b[39;49m\u001b[43mcopy\u001b[49m\u001b[43m(\u001b[49m\u001b[43m)\u001b[49m \u001b[38;5;28;01mfor\u001b[39;00m x \u001b[38;5;129;01min\u001b[39;00m output)\n\u001b[0;32m   5389\u001b[0m \u001b[38;5;28;01mreturn\u001b[39;00m output\n",
      "\u001b[1;31mMemoryError\u001b[0m: Unable to allocate 83.4 GiB for an array with shape (4444, 2222, 1133) and data type float64"
     ]
    }
   ],
   "source": [
    "meshgrid_x, meshgrid_y, meshgrid_z = np.meshgrid(x_val, y_val, z_val, indexing='ij')\n",
    "points = np.vstack((meshgrid_x.flatten(), meshgrid_y.flatten(), meshgrid_z.flatten())).T\n",
    "\n",
    "# Create Delaunay triangulation\n",
    "tri = Delaunay(np.column_stack((X, Y, Z)))"
   ]
  },
  {
   "cell_type": "code",
   "execution_count": null,
   "metadata": {},
   "outputs": [],
   "source": [
    "# pointsToVTK(\"Box\", meshgrid_x.flatten(), meshgrid_y.flatten(), meshgrid_z.flatten())"
   ]
  },
  {
   "cell_type": "code",
   "execution_count": null,
   "metadata": {},
   "outputs": [],
   "source": [
    "# Check which points are within the convex hull\n",
    "# Check for interpolation\n",
    "simplex_indices = tri.find_simplex(points)\n",
    "mask = simplex_indices >= 0"
   ]
  },
  {
   "cell_type": "code",
   "execution_count": null,
   "metadata": {},
   "outputs": [
    {
     "name": "stdout",
     "output_type": "stream",
     "text": [
      "Number of Points in Convex Hull: 83809\n",
      "Number of Points in Total: 83809\n"
     ]
    }
   ],
   "source": [
    "# x, y, z for just the mask\n",
    "x_mask = meshgrid_x.flatten()[mask]\n",
    "y_mask = meshgrid_y.flatten()[mask]\n",
    "z_mask = meshgrid_z.flatten()[mask]\n",
    "points_cave_edge = np.vstack((x_mask, y_mask, z_mask)).T\n",
    "print(f\"Number of Points in Convex Hull: {len(z_mask)}\")\n",
    "print(f\"Number of Points in Total: {len(points_cave_edge)}\")"
   ]
  },
  {
   "cell_type": "code",
   "execution_count": null,
   "metadata": {},
   "outputs": [
    {
     "name": "stdout",
     "output_type": "stream",
     "text": [
      "Number of Points in Vacuum Convex Hull: 547\n"
     ]
    }
   ],
   "source": [
    "from scipy.spatial import ConvexHull\n",
    "\n",
    "# Calculate the centroid of the original points\n",
    "centroid_cave = np.mean(points_cave_edge, axis=0)\n",
    "\n",
    "# Function to shrink each point towards the centroid\n",
    "def shrink_point(point, centroid, dx=2*dx, dy=2*dy, dz=2*dz):\n",
    "    direction = point - centroid\n",
    "    factor = np.array([dx, dy, dz]) / np.linalg.norm(direction)\n",
    "    shrink_vector = direction * factor\n",
    "    return point - shrink_vector\n",
    "\n",
    "# Apply shrinking to all points\n",
    "points_cave_vacuum_all = np.array([shrink_point(p, centroid_cave, dx, dy, dz) for p in points_cave_edge])\n",
    "\n",
    "# Compute the new convex hull from shrunken points\n",
    "convex_cave_vacuum = ConvexHull(points_cave_vacuum_all)\n",
    "\n",
    "# Extract the new set of coordinates defining the new convex hull\n",
    "points_cave_vacuum = points_cave_vacuum_all[convex_cave_vacuum.vertices]\n",
    "print(f\"Number of Points in Vacuum Convex Hull: {len(points_cave_vacuum)}\")"
   ]
  },
  {
   "cell_type": "code",
   "execution_count": null,
   "metadata": {},
   "outputs": [
    {
     "name": "stdout",
     "output_type": "stream",
     "text": [
      "gprMax input file 'mare_tube_ring.in' generated.\n"
     ]
    }
   ],
   "source": [
    "with open('mare_tube_ring.in', 'w') as f:\n",
    "\n",
    "    # Write the domain and discretization\n",
    "    f.write(f\"#domain: {x} {y} {z}\\n\")\n",
    "    f.write(f\"#dx_dy_dz: {dx} {dy} {dz}\\n\")\n",
    "    f.write(f\"#time_window: {9e-7}\\n\")\n",
    "\n",
    "    # Define the GPR source\n",
    "    f.write(f\"#waveform: ricker 1 {f_max/2} ricker_wavelet\\n\")\n",
    "    f.write(f\"#hertzian_dipole: z {x/2 - x_co} {y_moon} {z/2} ricker_wavelet\\n\")\n",
    "    \n",
    "    f.write(f\"#soil_gen_bruggeman_moon: 13 17.8 2.2 3.2 13.5 15.5 7.5 12.5 40.5 47.5 8.5 12.5 soil_reg\\n\")\n",
    "    f.write(f\"#fractal_box: 0 {y_crust} 0 {x} {y_moon} {z} 2.5 0.75 0.75 1.5 25 soil_reg moon_regolith\\n\")\n",
    "\n",
    "    f.write(f\"#soil_gen_bruggeman_moon: 19 22 1 6 6 10.5 6 11.5 42 47 9.5 10.5 rocks_crust\\n\")\n",
    "    f.write(f\"#fractal_box: 0 0 0 {x} {y_crust} {z} 2.5 0.75 0.75 1.5 25 rocks_crust moon_crust\\n\")\n",
    "\n",
    "    eps_r_value = 7.6\n",
    "    sigma_value = 1e-10\n",
    "    mu_r_value = 1.0\n",
    "    sigma_m_value = 0.0\n",
    "    f.write(f\"#material: {eps_r_value} {sigma_value} {mu_r_value} {sigma_m_value} moon_lava_tube \\n\")\n",
    "    # Dielectric smoothing needs to be turned off, add higher discretization for numerical stability\n",
    "\n",
    "    # Loop over each cell to define the materials\n",
    "    for i in range(len(x_mask)):\n",
    "        # Get the dielectric properties for the current cell\n",
    "        f.write(f\"#box: {x_mask[i]} {y_mask[i]} {z_mask[i]} {x_mask[i]+dx} {y_mask[i]+dy} {z_mask[i]+dz} moon_lava_tube n\\n\")\n",
    "\n",
    "    for i in range(len(points_cave_vacuum_all)):\n",
    "        # Get the dielectric properties for the current cell\n",
    "        f.write(f\"#box: {points_cave_vacuum_all[i][0]} {points_cave_vacuum_all[i][1]} {points_cave_vacuum_all[i][2]} {points_cave_vacuum_all[i][0]+dx} {points_cave_vacuum_all[i][1]+dy} {points_cave_vacuum_all[i][2]+dz} free_space n\\n\")\n",
    "\n",
    "    f.write(f\"#rx: {x/2 + x_co} {y_moon} {z/2}\\n\")\n",
    "    f.write(f\"#geometry_view: 0 0 0 {x} {y} {z} {dx} {dy} {dz} mare_tube_ring n \\n\")\n",
    "\n",
    "# Output success message\n",
    "print(\"gprMax input file 'mare_tube_ring.in' generated.\")"
   ]
  },
  {
   "cell_type": "code",
   "execution_count": null,
   "metadata": {},
   "outputs": [
    {
     "name": "stdout",
     "output_type": "stream",
     "text": [
      "gprMax input file 'mare_tube_vacuum.in' generated.\n"
     ]
    }
   ],
   "source": [
    "with open('mare_tube_vacuum.in', 'w') as f:\n",
    "\n",
    "    # Write the domain and discretization\n",
    "    f.write(f\"#domain: {x} {y} {z}\\n\")\n",
    "    f.write(f\"#dx_dy_dz: {dx} {dy} {dz}\\n\")\n",
    "    f.write(f\"#time_window: {9e-7}\\n\")\n",
    "\n",
    "    # Define the GPR source\n",
    "    f.write(f\"#waveform: ricker 1 {f_max/2} ricker_wavelet\\n\")\n",
    "    f.write(f\"#hertzian_dipole: z {x/2 - x_co} {y_moon} {z/2} ricker_wavelet\\n\")\n",
    "    \n",
    "    f.write(f\"#soil_gen_bruggeman_moon: 13 17.8 2.2 3.2 13.5 15.5 7.5 12.5 40.5 47.5 8.5 12.5 soil_reg\\n\")\n",
    "    f.write(f\"#fractal_box: 0 {y_crust} 0 {x} {y_moon} {z} 2.5 0.75 0.75 1.5 25 soil_reg moon_regolith\\n\")\n",
    "\n",
    "    f.write(f\"#soil_gen_bruggeman_moon: 19 22 1 6 6 10.5 6 11.5 42 47 9.5 10.5 rocks_crust\\n\")\n",
    "    f.write(f\"#fractal_box: 0 0 0 {x} {y_crust} {z} 2.5 0.75 0.75 1.5 25 rocks_crust moon_crust\\n\")\n",
    "\n",
    "    # Loop over each cell to define the materials\n",
    "    for i in range(len(x_mask)):\n",
    "        # Get the dielectric properties for the current cell\n",
    "        f.write(f\"#box: {x_mask[i]} {y_mask[i]} {z_mask[i]} {x_mask[i]+dx} {y_mask[i]+dy} {z_mask[i]+dz} free_space n\\n\")\n",
    "\n",
    "    f.write(f\"#rx: {x/2 + x_co} {y_moon} {z/2}\\n\")\n",
    "    f.write(f\"#geometry_view: 0 0 0 {x} {y} {z} {dx} {dy} {dz} mare_tube_vacuum n \\n\")\n",
    "\n",
    "# Output success message\n",
    "print(\"gprMax input file 'mare_tube_vacuum.in' generated.\")"
   ]
  },
  {
   "cell_type": "code",
   "execution_count": null,
   "metadata": {},
   "outputs": [
    {
     "name": "stdout",
     "output_type": "stream",
     "text": [
      "gprMax input file 'mare_tube_ring_B_0_0.in' generated.\n"
     ]
    }
   ],
   "source": [
    "with open('mare_tube_ring_B_0_0.in', 'w') as f:\n",
    "\n",
    "    # Write the domain and discretization\n",
    "    f.write(f\"#domain: {x} {y} {z}\\n\")\n",
    "    f.write(f\"#dx_dy_dz: {dx} {dy} {dz}\\n\")\n",
    "    f.write(f\"#time_window: {9e-7}\\n\")\n",
    "\n",
    "    # Define the GPR source\n",
    "    f.write(f\"#waveform: ricker 1 {f_max/2} ricker_wavelet\\n\")\n",
    "    f.write(f\"#hertzian_dipole: z {x/10} {y_moon} {z/2} ricker_wavelet\\n\")\n",
    "    \n",
    "    f.write(f\"#soil_gen_bruggeman_moon: 13 17.8 2.2 3.2 13.5 15.5 7.5 12.5 40.5 47.5 8.5 12.5 soil_reg\\n\")\n",
    "    f.write(f\"#fractal_box: 0 {y_crust} 0 {x} {y_moon} {z} 2.5 0.75 0.75 1.5 25 soil_reg moon_regolith\\n\")\n",
    "\n",
    "    f.write(f\"#soil_gen_bruggeman_moon: 19 22 1 6 6 10.5 6 11.5 42 47 9.5 10.5 rocks_crust\\n\")\n",
    "    f.write(f\"#fractal_box: 0 0 0 {x} {y_crust} {z} 2.5 0.75 0.75 1.5 25 rocks_crust moon_crust\\n\")\n",
    "\n",
    "    eps_r_value = 7.6\n",
    "    sigma_value = 1e-10\n",
    "    mu_r_value = 1.0\n",
    "    sigma_m_value = 0.0\n",
    "    f.write(f\"#material: {eps_r_value} {sigma_value} {mu_r_value} {sigma_m_value} moon_lava_tube \\n\")\n",
    "    # Dielectric smoothing needs to be turned off, add higher discretization for numerical stability\n",
    "\n",
    "    # Loop over each cell to define the materials\n",
    "    for i in range(len(x_mask)):\n",
    "        # Get the dielectric properties for the current cell\n",
    "        f.write(f\"#box: {x_mask[i]} {y_mask[i]} {z_mask[i]} {x_mask[i]+dx} {y_mask[i]+dy} {z_mask[i]+dz} moon_lava_tube n\\n\")\n",
    "\n",
    "    for i in range(len(points_cave_vacuum_all)):\n",
    "        # Get the dielectric properties for the current cell\n",
    "        f.write(f\"#box: {points_cave_vacuum_all[i][0]} {points_cave_vacuum_all[i][1]} {points_cave_vacuum_all[i][2]} {points_cave_vacuum_all[i][0]+dx} {points_cave_vacuum_all[i][1]+dy} {points_cave_vacuum_all[i][2]+dz} free_space n\\n\")\n",
    "\n",
    "    f.write(f\"#rx: {x/10} {y_moon} {z/2}\\n\")\n",
    "    f.write(f\"#src_steps: {x_step} 0 0\\n#rx_steps: {x_step} 0 0\\n\")\n",
    "    f.write(f\"#geometry_view: 0 0 0 {x} {y} {z} {dx} {dy} {dz} mare_tube_ring_B_0_0 n \\n\")\n",
    "\n",
    "# Output success message\n",
    "print(\"gprMax input file 'mare_tube_ring_B_0_0.in' generated.\")"
   ]
  },
  {
   "cell_type": "code",
   "execution_count": null,
   "metadata": {},
   "outputs": [
    {
     "name": "stdout",
     "output_type": "stream",
     "text": [
      "gprMax input file 'mare_tube_ring_B_0_01.in' generated.\n"
     ]
    }
   ],
   "source": [
    "with open('mare_tube_ring_B_0_01.in', 'w') as f:\n",
    "\n",
    "    # Write the domain and discretization\n",
    "    f.write(f\"#domain: {x} {y} {z}\\n\")\n",
    "    f.write(f\"#dx_dy_dz: {dx} {dy} {dz}\\n\")\n",
    "    f.write(f\"#time_window: {9e-7}\\n\")\n",
    "\n",
    "    # Define the GPR source\n",
    "    f.write(f\"#waveform: ricker 1 {f_max/2} ricker_wavelet\\n\")\n",
    "    f.write(f\"#hertzian_dipole: z {x/10} {y_moon + y_gpr} {z/2} ricker_wavelet\\n\")\n",
    "    \n",
    "    f.write(f\"#soil_gen_bruggeman_moon: 13 17.8 2.2 3.2 13.5 15.5 7.5 12.5 40.5 47.5 8.5 12.5 soil_reg\\n\")\n",
    "    f.write(f\"#fractal_box: 0 {y_crust} 0 {x} {y_moon} {z} 2.5 0.75 0.75 1.5 25 soil_reg moon_regolith\\n\")\n",
    "\n",
    "    f.write(f\"#soil_gen_bruggeman_moon: 19 22 1 6 6 10.5 6 11.5 42 47 9.5 10.5 rocks_crust\\n\")\n",
    "    f.write(f\"#fractal_box: 0 0 0 {x} {y_crust} {z} 2.5 0.75 0.75 1.5 25 rocks_crust moon_crust\\n\")\n",
    "\n",
    "    f.write(f\"#material: {eps_r_value} {sigma_value} {mu_r_value} {sigma_m_value} moon_lava_tube \\n\")\n",
    "    # Dielectric smoothing needs to be turned off, add higher discretization for numerical stability\n",
    "\n",
    "    # Loop over each cell to define the materials\n",
    "    for i in range(len(x_mask)):\n",
    "        # Get the dielectric properties for the current cell\n",
    "        f.write(f\"#box: {x_mask[i]} {y_mask[i]} {z_mask[i]} {x_mask[i]+dx} {y_mask[i]+dy} {z_mask[i]+dz} moon_lava_tube n\\n\")\n",
    "\n",
    "    for i in range(len(points_cave_vacuum_all)):\n",
    "        # Get the dielectric properties for the current cell\n",
    "        f.write(f\"#box: {points_cave_vacuum_all[i][0]} {points_cave_vacuum_all[i][1]} {points_cave_vacuum_all[i][2]} {points_cave_vacuum_all[i][0]+dx} {points_cave_vacuum_all[i][1]+dy} {points_cave_vacuum_all[i][2]+dz} free_space n\\n\")\n",
    "\n",
    "    f.write(f\"#rx: {x/10} {y_moon} {z/2}\\n\")\n",
    "    f.write(f\"#src_steps: {x_step} 0 0\\n#rx_steps: {x_step} 0 0\\n\")\n",
    "    f.write(f\"geometry_view: 0 0 0 {x} {y} {z} {dx} {dy} {dz} mare_tube_ring_B_0_01 n \\n\")\n",
    "\n",
    "# Output success message\n",
    "print(\"gprMax input file 'mare_tube_ring_B_0_01.in' generated.\")"
   ]
  },
  {
   "cell_type": "code",
   "execution_count": null,
   "metadata": {},
   "outputs": [
    {
     "name": "stdout",
     "output_type": "stream",
     "text": [
      "gprMax input file 'mare_tube_ring_B_025_01.in' generated.\n"
     ]
    }
   ],
   "source": [
    "with open('mare_tube_ring_B_025_01.in', 'w') as f:\n",
    "\n",
    "    # Write the domain and discretization\n",
    "    f.write(f\"#domain: {x} {y} {z}\\n\")\n",
    "    f.write(f\"#dx_dy_dz: {dx} {dy} {dz}\\n\")\n",
    "    f.write(f\"#time_window: {9e-7}\\n\")\n",
    "\n",
    "    # Define the GPR source\n",
    "    f.write(f\"#waveform: ricker 1 {f_max/2} ricker_wavelet\\n\")\n",
    "    f.write(f\"#hertzian_dipole: z {x/10} {y_moon + y_gpr} {z/2} ricker_wavelet\\n\")\n",
    "    \n",
    "    f.write(f\"#soil_gen_bruggeman_moon: 13 17.8 2.2 3.2 13.5 15.5 7.5 12.5 40.5 47.5 8.5 12.5 soil_reg\\n\")\n",
    "    f.write(f\"#fractal_box: 0 {y_crust} 0 {x} {y_moon} {z} 2.5 0.75 0.75 1.5 25 soil_reg moon_regolith\\n\")\n",
    "\n",
    "    f.write(f\"#soil_gen_bruggeman_moon: 19 22 1 6 6 10.5 6 11.5 42 47 9.5 10.5 rocks_crust\\n\")\n",
    "    f.write(f\"#fractal_box: 0 0 0 {x} {y_crust} {z} 2.5 0.75 0.75 1.5 25 rocks_crust moon_crust\\n\")\n",
    "\n",
    "    eps_r_value = 7.6\n",
    "    sigma_value = 1e-10\n",
    "    mu_r_value = 1.0\n",
    "    sigma_m_value = 0.0\n",
    "    f.write(f\"#material: {eps_r_value} {sigma_value} {mu_r_value} {sigma_m_value} moon_lava_tube \\n\")\n",
    "    # Dielectric smoothing needs to be turned off, add higher discretization for numerical stability\n",
    "\n",
    "    # Loop over each cell to define the materials\n",
    "    for i in range(len(x_mask)):\n",
    "        # Get the dielectric properties for the current cell\n",
    "        f.write(f\"#box: {x_mask[i]} {y_mask[i]} {z_mask[i]} {x_mask[i]+dx} {y_mask[i]+dy} {z_mask[i]+dz} moon_lava_tube n\\n\")\n",
    "\n",
    "    for i in range(len(points_cave_vacuum_all)):\n",
    "        # Get the dielectric properties for the current cell\n",
    "        f.write(f\"#box: {points_cave_vacuum_all[i][0]} {points_cave_vacuum_all[i][1]} {points_cave_vacuum_all[i][2]} {points_cave_vacuum_all[i][0]+dx} {points_cave_vacuum_all[i][1]+dy} {points_cave_vacuum_all[i][2]+dz} free_space n\\n\")\n",
    "\n",
    "    f.write(f\"#rx: {x/2 + x_co} {y_moon} {z/2}\\n\")\n",
    "    f.write(f\"#src_steps: {x_step} 0 0\\n#rx_steps: {x_step} 0 0\\n\")\n",
    "    f.write(f\"geometry_view: 0 0 0 {x} {y} {z} {dx} {dy} {dz} mare_tube_ring_B_025_01 n \\n\")\n",
    "\n",
    "# Output success message\n",
    "print(\"gprMax input file 'mare_tube_ring_B_025_01.in' generated.\")"
   ]
  },
  {
   "cell_type": "code",
   "execution_count": null,
   "metadata": {},
   "outputs": [
    {
     "name": "stdout",
     "output_type": "stream",
     "text": [
      "gprMax input file 'mare_tube_ring_B_025_0.in' generated.\n"
     ]
    }
   ],
   "source": [
    "with open('mare_tube_ring_B_025_0.in', 'w') as f:\n",
    "\n",
    "    # Write the domain and discretization\n",
    "    f.write(f\"#domain: {x} {y} {z}\\n\")\n",
    "    f.write(f\"#dx_dy_dz: {dx} {dy} {dz}\\n\")\n",
    "    f.write(f\"#time_window: {9e-7}\\n\")\n",
    "\n",
    "    # Define the GPR source\n",
    "    f.write(f\"#waveform: ricker 1 {f_max/2} ricker_wavelet\\n\")\n",
    "    f.write(f\"#hertzian_dipole: z {x/10} {y_moon} {z/2} ricker_wavelet\\n\")\n",
    "    \n",
    "    f.write(f\"#soil_gen_bruggeman_moon: 13 17.8 2.2 3.2 13.5 15.5 7.5 12.5 40.5 47.5 8.5 12.5 soil_reg\\n\")\n",
    "    f.write(f\"#fractal_box: 0 {y_crust} 0 {x} {y_moon} {z} 2.5 0.75 0.75 1.5 25 soil_reg moon_regolith\\n\")\n",
    "\n",
    "    f.write(f\"#soil_gen_bruggeman_moon: 19 22 1 6 6 10.5 6 11.5 42 47 9.5 10.5 rocks_crust\\n\")\n",
    "    f.write(f\"#fractal_box: 0 0 0 {x} {y_crust} {z} 2.5 0.75 0.75 1.5 25 rocks_crust moon_crust\\n\")\n",
    "\n",
    "    eps_r_value = 7.6\n",
    "    sigma_value = 1e-10\n",
    "    mu_r_value = 1.0\n",
    "    sigma_m_value = 0.0\n",
    "    f.write(f\"#material: {eps_r_value} {sigma_value} {mu_r_value} {sigma_m_value} moon_lava_tube \\n\")\n",
    "    # Dielectric smoothing needs to be turned off, add higher discretization for numerical stability\n",
    "\n",
    "    # Loop over each cell to define the materials\n",
    "    for i in range(len(x_mask)):\n",
    "        # Get the dielectric properties for the current cell\n",
    "        f.write(f\"#box: {x_mask[i]} {y_mask[i]} {z_mask[i]} {x_mask[i]+dx} {y_mask[i]+dy} {z_mask[i]+dz} moon_lava_tube n\\n\")\n",
    "\n",
    "    for i in range(len(points_cave_vacuum_all)):\n",
    "        # Get the dielectric properties for the current cell\n",
    "        f.write(f\"#box: {points_cave_vacuum_all[i][0]} {points_cave_vacuum_all[i][1]} {points_cave_vacuum_all[i][2]} {points_cave_vacuum_all[i][0]+dx} {points_cave_vacuum_all[i][1]+dy} {points_cave_vacuum_all[i][2]+dz} free_space n\\n\")\n",
    "\n",
    "    f.write(f\"#rx: {x/10 + x_co} {y_moon} {z/2}\\n\")\n",
    "    f.write(f\"#src_steps: {x_step} 0 0\\n#rx_steps: {x_step} 0 0\\n\")\n",
    "    f.write(f\"geometry_view: 0 0 0 {x} {y} {z} {dx} {dy} {dz} mare_tube_ring_B_025_0 n \\n\")\n",
    "\n",
    "# Output success message\n",
    "print(\"gprMax input file 'mare_tube_ring_B_025_0.in' generated.\")"
   ]
  },
  {
   "cell_type": "code",
   "execution_count": null,
   "metadata": {},
   "outputs": [
    {
     "name": "stdout",
     "output_type": "stream",
     "text": [
      "gprMax input file 'mare_tube_vacuum_B_0_0.in' generated.\n"
     ]
    }
   ],
   "source": [
    "with open('mare_tube_vacuum_B_0_0.in', 'w') as f:\n",
    "\n",
    "    # Write the domain and discretization\n",
    "    f.write(f\"#domain: {x} {y} {z}\\n\")\n",
    "    f.write(f\"#dx_dy_dz: {dx} {dy} {dz}\\n\")\n",
    "    f.write(f\"#time_window: {9e-7}\\n\")\n",
    "\n",
    "    # Define the GPR source\n",
    "    f.write(f\"#waveform: ricker 1 {f_max/2} ricker_wavelet\\n\")\n",
    "    f.write(f\"#hertzian_dipole: z {x/10} {y_moon} {z/2} ricker_wavelet\\n\")\n",
    "    \n",
    "    f.write(f\"#soil_gen_bruggeman_moon: 13 17.8 2.2 3.2 13.5 15.5 7.5 12.5 40.5 47.5 8.5 12.5 soil_reg\\n\")\n",
    "    f.write(f\"#fractal_box: 0 {y_crust} 0 {x} {y_moon} {z} 2.5 0.75 0.75 1.5 25 soil_reg moon_regolith\\n\")\n",
    "\n",
    "    f.write(f\"#soil_gen_bruggeman_moon: 19 22 1 6 6 10.5 6 11.5 42 47 9.5 10.5 rocks_crust\\n\")\n",
    "    f.write(f\"#fractal_box: 0 0 0 {x} {y_crust} {z} 2.5 0.75 0.75 1.5 25 rocks_crust moon_crust\\n\")\n",
    "\n",
    "    # Loop over each cell to define the materials\n",
    "    for i in range(len(x_mask)):\n",
    "        # Get the dielectric properties for the current cell\n",
    "        f.write(f\"#box: {x_mask[i]} {y_mask[i]} {z_mask[i]} {x_mask[i]+dx} {y_mask[i]+dy} {z_mask[i]+dz} free_space n\\n\")\n",
    "\n",
    "    f.write(f\"#rx: {x/10} {y_moon} {z/2}\\n\")\n",
    "    f.write(f\"#src_steps: {x_step} 0 0\\n#rx_steps: {x_step} 0 0\\n\")\n",
    "    f.write(f\"geometry_view: 0 0 0 {x} {y} {z} {dx} {dy} {dz} mare_tube_vacuum_B_0_0 n \\n\")\n",
    "\n",
    "# Output success message\n",
    "print(\"gprMax input file 'mare_tube_vacuum_B_0_0.in' generated.\")"
   ]
  },
  {
   "cell_type": "code",
   "execution_count": null,
   "metadata": {},
   "outputs": [
    {
     "name": "stdout",
     "output_type": "stream",
     "text": [
      "gprMax input file 'mare_tube_vacuum_B_0_01.in' generated.\n"
     ]
    }
   ],
   "source": [
    "with open('mare_tube_vacuum_B_0_01.in', 'w') as f:\n",
    "\n",
    "    # Write the domain and discretization\n",
    "    f.write(f\"#domain: {x} {y} {z}\\n\")\n",
    "    f.write(f\"#dx_dy_dz: {dx} {dy} {dz}\\n\")\n",
    "    f.write(f\"#time_window: {9e-7}\\n\")\n",
    "\n",
    "    # Define the GPR source\n",
    "    f.write(f\"#waveform: ricker 1 {f_max/2} ricker_wavelet\\n\")\n",
    "    f.write(f\"#hertzian_dipole: z {x/10} {y_moon + y_gpr} {z/2} ricker_wavelet\\n\")\n",
    "    \n",
    "    f.write(f\"#soil_gen_bruggeman_moon: 13 17.8 2.2 3.2 13.5 15.5 7.5 12.5 40.5 47.5 8.5 12.5 soil_reg\\n\")\n",
    "    f.write(f\"#fractal_box: 0 {y_crust} 0 {x} {y_moon} {z} 2.5 0.75 0.75 1.5 25 soil_reg moon_regolith\\n\")\n",
    "\n",
    "    f.write(f\"#soil_gen_bruggeman_moon: 19 22 1 6 6 10.5 6 11.5 42 47 9.5 10.5 rocks_crust\\n\")\n",
    "    f.write(f\"#fractal_box: 0 0 0 {x} {y_crust} {z} 2.5 0.75 0.75 1.5 25 rocks_crust moon_crust\\n\")\n",
    "\n",
    "    # Loop over each cell to define the materials\n",
    "    for i in range(len(x_mask)):\n",
    "        # Get the dielectric properties for the current cell\n",
    "        f.write(f\"#box: {x_mask[i]} {y_mask[i]} {z_mask[i]} {x_mask[i]+dx} {y_mask[i]+dy} {z_mask[i]+dz} free_space n\\n\")\n",
    "\n",
    "    f.write(f\"#rx: {x/10} {y_moon} {z/2}\\n\")\n",
    "    f.write(f\"#src_steps: {x_step} 0 0\\n#rx_steps: {x_step} 0 0\\n\")\n",
    "    f.write(f\"geometry_view: 0 0 0 {x} {y} {z} {dx} {dy} {dz} mare_tube_vacuum_B_0_01 n \\n\")\n",
    "\n",
    "# Output success message\n",
    "print(\"gprMax input file 'mare_tube_vacuum_B_0_01.in' generated.\")"
   ]
  },
  {
   "cell_type": "code",
   "execution_count": null,
   "metadata": {},
   "outputs": [
    {
     "name": "stdout",
     "output_type": "stream",
     "text": [
      "gprMax input file 'mare_tube_vacuum_B_025_01.in' generated.\n"
     ]
    }
   ],
   "source": [
    "with open('mare_tube_vacuum_B_025_01.in', 'w') as f:\n",
    "\n",
    "    # Write the domain and discretization\n",
    "    f.write(f\"#domain: {x} {y} {z}\\n\")\n",
    "    f.write(f\"#dx_dy_dz: {dx} {dy} {dz}\\n\")\n",
    "    f.write(f\"#time_window: {9e-7}\\n\")\n",
    "\n",
    "    # Define the GPR source\n",
    "    f.write(f\"#waveform: ricker 1 {f_max/2} ricker_wavelet\\n\")\n",
    "    f.write(f\"#hertzian_dipole: z {x/10} {y_moon + y_gpr} {z/2} ricker_wavelet\\n\")\n",
    "    \n",
    "    f.write(f\"#soil_gen_bruggeman_moon: 13 17.8 2.2 3.2 13.5 15.5 7.5 12.5 40.5 47.5 8.5 12.5 soil_reg\\n\")\n",
    "    f.write(f\"#fractal_box: 0 {y_crust} 0 {x} {y_moon} {z} 2.5 0.75 0.75 1.5 25 soil_reg moon_regolith\\n\")\n",
    "\n",
    "    f.write(f\"#soil_gen_bruggeman_moon: 19 22 1 6 6 10.5 6 11.5 42 47 9.5 10.5 rocks_crust\\n\")\n",
    "    f.write(f\"#fractal_box: 0 0 0 {x} {y_crust} {z} 2.5 0.75 0.75 1.5 25 rocks_crust moon_crust\\n\")\n",
    "\n",
    "    # Loop over each cell to define the materials\n",
    "    for i in range(len(x_mask)):\n",
    "        # Get the dielectric properties for the current cell\n",
    "        f.write(f\"#box: {x_mask[i]} {y_mask[i]} {z_mask[i]} {x_mask[i]+dx} {y_mask[i]+dy} {z_mask[i]+dz} free_space n\\n\")\n",
    "\n",
    "    f.write(f\"#rx: {x/2 + x_co} {y_moon} {z/2}\\n\")\n",
    "    f.write(f\"#src_steps: {x_step} 0 0\\n#rx_steps: {x_step} 0 0\\n\")\n",
    "    f.write(f\"geometry_view: 0 0 0 {x} {y} {z} {dx} {dy} {dz} mare_tube_vacuum_B_025_01 n \\n\")\n",
    "\n",
    "# Output success message\n",
    "print(\"gprMax input file 'mare_tube_vacuum_B_025_01.in' generated.\")"
   ]
  },
  {
   "cell_type": "code",
   "execution_count": null,
   "metadata": {},
   "outputs": [
    {
     "name": "stdout",
     "output_type": "stream",
     "text": [
      "gprMax input file 'mare_tube_vacuum_B_025_0.in' generated.\n"
     ]
    }
   ],
   "source": [
    "with open('mare_tube_vacuum_B_025_0.in', 'w') as f:\n",
    "\n",
    "    # Write the domain and discretization\n",
    "    f.write(f\"#domain: {x} {y} {z}\\n\")\n",
    "    f.write(f\"#dx_dy_dz: {dx} {dy} {dz}\\n\")\n",
    "    f.write(f\"#time_window: {9e-7}\\n\")\n",
    "\n",
    "    # Define the GPR source\n",
    "    f.write(f\"#waveform: ricker 1 {f_max/2} ricker_wavelet\\n\")\n",
    "    f.write(f\"#hertzian_dipole: z {x/10} {y_moon} {z/2} ricker_wavelet\\n\")\n",
    "    \n",
    "    f.write(f\"#soil_gen_bruggeman_moon: 13 17.8 2.2 3.2 13.5 15.5 7.5 12.5 40.5 47.5 8.5 12.5 soil_reg\\n\")\n",
    "    f.write(f\"#fractal_box: 0 {y_crust} 0 {x} {y_moon} {z} 2.5 0.75 0.75 1.5 25 soil_reg moon_regolith\\n\")\n",
    "\n",
    "    f.write(f\"#soil_gen_bruggeman_moon: 19 22 1 6 6 10.5 6 11.5 42 47 9.5 10.5 rocks_crust\\n\")\n",
    "    f.write(f\"#fractal_box: 0 0 0 {x} {y_crust} {z} 2.5 0.75 0.75 1.5 25 rocks_crust moon_crust\\n\")\n",
    "\n",
    "    # Loop over each cell to define the materials\n",
    "    for i in range(len(x_mask)):\n",
    "        # Get the dielectric properties for the current cell\n",
    "        f.write(f\"#box: {x_mask[i]} {y_mask[i]} {z_mask[i]} {x_mask[i]+dx} {y_mask[i]+dy} {z_mask[i]+dz} free_space n\\n\")\n",
    "\n",
    "    f.write(f\"#rx: {x/10 + x_co} {y_moon} {z/2}\\n\")\n",
    "    f.write(f\"#src_steps: {x_step} 0 0\\n#rx_steps: {x_step} 0 0\\n\")\n",
    "    f.write(f\"geometry_view: 0 0 0 {x} {y} {z} {dx} {dy} {dz} mare_tube_vacuum_B_025_0 n \\n\")\n",
    "\n",
    "# Output success message\n",
    "print(\"gprMax input file 'mare_tube_vacuum_B_025_0.in' generated.\")"
   ]
  },
  {
   "cell_type": "code",
   "execution_count": null,
   "metadata": {},
   "outputs": [
    {
     "name": "stdout",
     "output_type": "stream",
     "text": [
      "gprMax input file 'hland_tube_ring.in' generated.\n"
     ]
    }
   ],
   "source": [
    "with open('hland_tube_ring.in', 'w') as f:\n",
    "\n",
    "    # Write the domain and discretization\n",
    "    f.write(f\"#domain: {x} {y} {z}\\n\")\n",
    "    f.write(f\"#dx_dy_dz: {dx} {dy} {dz}\\n\")\n",
    "    f.write(f\"#time_window: {9e-7}\\n\")\n",
    "\n",
    "    # Define the GPR source\n",
    "    f.write(f\"#waveform: ricker 1 {f_max/2} ricker_wavelet\\n\")\n",
    "    f.write(f\"#hertzian_dipole: z {x/2 - x_co} {y_moon} {z/2} ricker_wavelet\\n\")\n",
    "    \n",
    "    f.write(f\"#soil_gen_bruggeman_moon: 1 10 0.1 3 24 34 1 9.5 41.5 48.5 11 21.5 soil_reg\\n\")\n",
    "    f.write(f\"#fractal_box: 0 {y_crust} 0 {x} {y_moon} {z} 2.5 0.75 0.75 1.5 25 soil_reg moon_regolith\\n\")\n",
    "\n",
    "    f.write(f\"#soil_gen_bruggeman_moon: 5 10.01 0.4 1.59 17.9 28 6.9 12.5 44.4 48.4 11.1 15 rocks_crust\\n\")\n",
    "    f.write(f\"#fractal_box: 0 0 0 {x} {y_crust} {z} 2.5 0.75 0.75 1.5 25 rocks_crust moon_crust\\n\")\n",
    "\n",
    "    eps_r_value = 7.6\n",
    "    sigma_value = 1e-10\n",
    "    mu_r_value = 1.0\n",
    "    sigma_m_value = 0.0\n",
    "    f.write(f\"#material: {eps_r_value} {sigma_value} {mu_r_value} {sigma_m_value} moon_lava_tube \\n\")\n",
    "    # Dielectric smoothing needs to be turned off, add higher discretization for numerical stability\n",
    "\n",
    "    # Loop over each cell to define the materials\n",
    "    for i in range(len(x_mask)):\n",
    "        # Get the dielectric properties for the current cell\n",
    "        f.write(f\"#box: {x_mask[i]} {y_mask[i]} {z_mask[i]} {x_mask[i]+dx} {y_mask[i]+dy} {z_mask[i]+dz} moon_lava_tube n\\n\")\n",
    "\n",
    "    for i in range(len(points_cave_vacuum_all)):\n",
    "        # Get the dielectric properties for the current cell\n",
    "        f.write(f\"#box: {points_cave_vacuum_all[i][0]} {points_cave_vacuum_all[i][1]} {points_cave_vacuum_all[i][2]} {points_cave_vacuum_all[i][0]+dx} {points_cave_vacuum_all[i][1]+dy} {points_cave_vacuum_all[i][2]+dz} free_space n\\n\")\n",
    "\n",
    "    f.write(f\"#rx: {x/2 + x_co} {y_moon} {z/2}\\n\")\n",
    "    f.write(f\"#geometry_view: 0 0 0 {x} {y} {z} {dx} {dy} {dz} hland_tube_ring n \\n\")\n",
    "\n",
    "# Output success message\n",
    "print(\"gprMax input file 'hland_tube_ring.in' generated.\")"
   ]
  },
  {
   "cell_type": "code",
   "execution_count": null,
   "metadata": {},
   "outputs": [
    {
     "name": "stdout",
     "output_type": "stream",
     "text": [
      "gprMax input file 'hland_tube_vacuum.in' generated.\n"
     ]
    }
   ],
   "source": [
    "with open('hland_tube_vacuum.in', 'w') as f:\n",
    "\n",
    "    # Write the domain and discretization\n",
    "    f.write(f\"#domain: {x} {y} {z}\\n\")\n",
    "    f.write(f\"#dx_dy_dz: {dx} {dy} {dz}\\n\")\n",
    "    f.write(f\"#time_window: {9e-7}\\n\")\n",
    "\n",
    "    # Define the GPR source\n",
    "    f.write(f\"#waveform: ricker 1 {f_max/2} ricker_wavelet\\n\")\n",
    "    f.write(f\"#hertzian_dipole: z {x/2 - x_co} {y_moon} {z/2} ricker_wavelet\\n\")\n",
    "    \n",
    "    f.write(f\"#soil_gen_bruggeman_moon: 1 10 0.1 3 24 34 1 9.5 41.5 48.5 11 21.5 soil_reg\\n\")\n",
    "    f.write(f\"#fractal_box: 0 {y_crust} 0 {x} {y_moon} {z} 2.5 0.75 0.75 1.5 25 soil_reg moon_regolith\\n\")\n",
    "\n",
    "    f.write(f\"#soil_gen_bruggeman_moon: 5 10.01 0.4 1.59 17.9 28 6.9 12.5 44.4 48.4 11.1 15 rocks_crust\\n\")\n",
    "    f.write(f\"#fractal_box: 0 0 0 {x} {y_crust} {z} 2.5 0.75 0.75 1.5 25 rocks_crust moon_crust\\n\")\n",
    "\n",
    "    # Loop over each cell to define the materials\n",
    "    for i in range(len(x_mask)):\n",
    "        # Get the dielectric properties for the current cell\n",
    "        f.write(f\"#box: {x_mask[i]} {y_mask[i]} {z_mask[i]} {x_mask[i]+dx} {y_mask[i]+dy} {z_mask[i]+dz} free_space n\\n\")\n",
    "\n",
    "    f.write(f\"#rx: {x/2 + x_co} {y_moon} {z/2}\\n\")\n",
    "    f.write(f\"#geometry_view: 0 0 0 {x} {y} {z} {dx} {dy} {dz} hland_tube_vacuum n \\n\")\n",
    "\n",
    "# Output success message\n",
    "print(\"gprMax input file 'hland_tube_vacuum.in' generated.\")"
   ]
  },
  {
   "cell_type": "code",
   "execution_count": null,
   "metadata": {},
   "outputs": [
    {
     "name": "stdout",
     "output_type": "stream",
     "text": [
      "gprMax input file 'hland_tube_ring_B_0_0.in' generated.\n"
     ]
    }
   ],
   "source": [
    "with open('hland_tube_ring_B_0_0.in', 'w') as f:\n",
    "\n",
    "    # Write the domain and discretization\n",
    "    f.write(f\"#domain: {x} {y} {z}\\n\")\n",
    "    f.write(f\"#dx_dy_dz: {dx} {dy} {dz}\\n\")\n",
    "    f.write(f\"#time_window: {9e-7}\\n\")\n",
    "\n",
    "    # Define the GPR source\n",
    "    f.write(f\"#waveform: ricker 1 {f_max/2} ricker_wavelet\\n\")\n",
    "    f.write(f\"#hertzian_dipole: z {x/10} {y_moon} {z/2} ricker_wavelet\\n\")\n",
    "    \n",
    "    f.write(f\"#soil_gen_bruggeman_moon: 1 10 0.1 3 24 34 1 9.5 41.5 48.5 11 21.5 soil_reg\\n\")\n",
    "    f.write(f\"#fractal_box: 0 {y_crust} 0 {x} {y_moon} {z} 2.5 0.75 0.75 1.5 25 soil_reg moon_regolith\\n\")\n",
    "\n",
    "    f.write(f\"#soil_gen_bruggeman_moon: 5 10.01 0.4 1.59 17.9 28 6.9 12.5 44.4 48.4 11.1 15 rocks_crust\\n\")\n",
    "    f.write(f\"#fractal_box: 0 0 0 {x} {y_crust} {z} 2.5 0.75 0.75 1.5 25 rocks_crust moon_crust\\n\")\n",
    "\n",
    "    eps_r_value = 7.6\n",
    "    sigma_value = 1e-10\n",
    "    mu_r_value = 1.0\n",
    "    sigma_m_value = 0.0\n",
    "    f.write(f\"#material: {eps_r_value} {sigma_value} {mu_r_value} {sigma_m_value} moon_lava_tube \\n\")\n",
    "    # Dielectric smoothing needs to be turned off, add higher discretization for numerical stability\n",
    "\n",
    "    # Loop over each cell to define the materials\n",
    "    for i in range(len(x_mask)):\n",
    "        # Get the dielectric properties for the current cell\n",
    "        f.write(f\"#box: {x_mask[i]} {y_mask[i]} {z_mask[i]} {x_mask[i]+dx} {y_mask[i]+dy} {z_mask[i]+dz} moon_lava_tube n\\n\")\n",
    "\n",
    "    for i in range(len(points_cave_vacuum_all)):\n",
    "        # Get the dielectric properties for the current cell\n",
    "        f.write(f\"#box: {points_cave_vacuum_all[i][0]} {points_cave_vacuum_all[i][1]} {points_cave_vacuum_all[i][2]} {points_cave_vacuum_all[i][0]+dx} {points_cave_vacuum_all[i][1]+dy} {points_cave_vacuum_all[i][2]+dz} free_space n\\n\")\n",
    "\n",
    "    f.write(f\"#rx: {x/10} {y_moon} {z/2}\\n\")\n",
    "    f.write(f\"#src_steps: {x_step} 0 0\\n#rx_steps: {x_step} 0 0\\n\")\n",
    "    f.write(f\"geometry_view: 0 0 0 {x} {y} {z} {dx} {dy} {dz} hland_tube_ring_B_0_0 n \\n\")\n",
    "\n",
    "# Output success message\n",
    "print(\"gprMax input file 'hland_tube_ring_B_0_0.in' generated.\")"
   ]
  },
  {
   "cell_type": "code",
   "execution_count": null,
   "metadata": {},
   "outputs": [
    {
     "name": "stdout",
     "output_type": "stream",
     "text": [
      "gprMax input file 'hland_tube_ring_B_0_01.in' generated.\n"
     ]
    }
   ],
   "source": [
    "with open('hland_tube_ring_B_0_01.in', 'w') as f:\n",
    "\n",
    "    # Write the domain and discretization\n",
    "    f.write(f\"#domain: {x} {y} {z}\\n\")\n",
    "    f.write(f\"#dx_dy_dz: {dx} {dy} {dz}\\n\")\n",
    "    f.write(f\"#time_window: {9e-7}\\n\")\n",
    "\n",
    "    # Define the GPR source\n",
    "    f.write(f\"#waveform: ricker 1 {f_max/2} ricker_wavelet\\n\")\n",
    "    f.write(f\"#hertzian_dipole: z {x/10} {y_moon + y_gpr} {z/2} ricker_wavelet\\n\")\n",
    "    \n",
    "    f.write(f\"#soil_gen_bruggeman_moon: 1 10 0.1 3 24 34 1 9.5 41.5 48.5 11 21.5 soil_reg\\n\")\n",
    "    f.write(f\"#fractal_box: 0 {y_crust} 0 {x} {y_moon} {z} 2.5 0.75 0.75 1.5 25 soil_reg moon_regolith\\n\")\n",
    "\n",
    "    f.write(f\"#soil_gen_bruggeman_moon: 5 10.01 0.4 1.59 17.9 28 6.9 12.5 44.4 48.4 11.1 15 rocks_crust\\n\")\n",
    "    f.write(f\"#fractal_box: 0 0 0 {x} {y_crust} {z} 2.5 0.75 0.75 1.5 25 rocks_crust moon_crust\\n\")\n",
    "\n",
    "    f.write(f\"#material: {eps_r_value} {sigma_value} {mu_r_value} {sigma_m_value} moon_lava_tube \\n\")\n",
    "    # Dielectric smoothing needs to be turned off, add higher discretization for numerical stability\n",
    "\n",
    "    # Loop over each cell to define the materials\n",
    "    for i in range(len(x_mask)):\n",
    "        # Get the dielectric properties for the current cell\n",
    "        f.write(f\"#box: {x_mask[i]} {y_mask[i]} {z_mask[i]} {x_mask[i]+dx} {y_mask[i]+dy} {z_mask[i]+dz} moon_lava_tube n\\n\")\n",
    "\n",
    "    for i in range(len(points_cave_vacuum_all)):\n",
    "        # Get the dielectric properties for the current cell\n",
    "        f.write(f\"#box: {points_cave_vacuum_all[i][0]} {points_cave_vacuum_all[i][1]} {points_cave_vacuum_all[i][2]} {points_cave_vacuum_all[i][0]+dx} {points_cave_vacuum_all[i][1]+dy} {points_cave_vacuum_all[i][2]+dz} free_space n\\n\")\n",
    "\n",
    "    f.write(f\"#rx: {x/10} {y_moon} {z/2}\\n\")\n",
    "    f.write(f\"#src_steps: {x_step} 0 0\\n#rx_steps: {x_step} 0 0\\n\")\n",
    "    f.write(f\"geometry_view: 0 0 0 {x} {y} {z} {dx} {dy} {dz} hland_tube_ring_B_0_01 n \\n\")\n",
    "\n",
    "# Output success message\n",
    "print(\"gprMax input file 'hland_tube_ring_B_0_01.in' generated.\")"
   ]
  },
  {
   "cell_type": "code",
   "execution_count": null,
   "metadata": {},
   "outputs": [
    {
     "name": "stdout",
     "output_type": "stream",
     "text": [
      "gprMax input file 'hland_tube_ring_B_025_01.in' generated.\n"
     ]
    }
   ],
   "source": [
    "with open('hland_tube_ring_B_025_01.in', 'w') as f:\n",
    "\n",
    "    # Write the domain and discretization\n",
    "    f.write(f\"#domain: {x} {y} {z}\\n\")\n",
    "    f.write(f\"#dx_dy_dz: {dx} {dy} {dz}\\n\")\n",
    "    f.write(f\"#time_window: {9e-7}\\n\")\n",
    "\n",
    "    # Define the GPR source\n",
    "    f.write(f\"#waveform: ricker 1 {f_max/2} ricker_wavelet\\n\")\n",
    "    f.write(f\"#hertzian_dipole: z {x/10} {y_moon + y_gpr} {z/2} ricker_wavelet\\n\")\n",
    "    \n",
    "    f.write(f\"#soil_gen_bruggeman_moon: 1 10 0.1 3 24 34 1 9.5 41.5 48.5 11 21.5 soil_reg\\n\")\n",
    "    f.write(f\"#fractal_box: 0 {y_crust} 0 {x} {y_moon} {z} 2.5 0.75 0.75 1.5 25 soil_reg moon_regolith\\n\")\n",
    "\n",
    "    f.write(f\"#soil_gen_bruggeman_moon: 5 10.01 0.4 1.59 17.9 28 6.9 12.5 44.4 48.4 11.1 15 rocks_crust\\n\")\n",
    "    f.write(f\"#fractal_box: 0 0 0 {x} {y_crust} {z} 2.5 0.75 0.75 1.5 25 rocks_crust moon_crust\\n\")\n",
    "\n",
    "    eps_r_value = 7.6\n",
    "    sigma_value = 1e-10\n",
    "    mu_r_value = 1.0\n",
    "    sigma_m_value = 0.0\n",
    "    f.write(f\"#material: {eps_r_value} {sigma_value} {mu_r_value} {sigma_m_value} moon_lava_tube \\n\")\n",
    "    # Dielectric smoothing needs to be turned off, add higher discretization for numerical stability\n",
    "\n",
    "    # Loop over each cell to define the materials\n",
    "    for i in range(len(x_mask)):\n",
    "        # Get the dielectric properties for the current cell\n",
    "        f.write(f\"#box: {x_mask[i]} {y_mask[i]} {z_mask[i]} {x_mask[i]+dx} {y_mask[i]+dy} {z_mask[i]+dz} moon_lava_tube n\\n\")\n",
    "\n",
    "    for i in range(len(points_cave_vacuum_all)):\n",
    "        # Get the dielectric properties for the current cell\n",
    "        f.write(f\"#box: {points_cave_vacuum_all[i][0]} {points_cave_vacuum_all[i][1]} {points_cave_vacuum_all[i][2]} {points_cave_vacuum_all[i][0]+dx} {points_cave_vacuum_all[i][1]+dy} {points_cave_vacuum_all[i][2]+dz} free_space n\\n\")\n",
    "\n",
    "    f.write(f\"#rx: {x/2 + x_co} {y_moon} {z/2}\\n\")\n",
    "    f.write(f\"#src_steps: {x_step} 0 0\\n#rx_steps: {x_step} 0 0\\n\")\n",
    "    f.write(f\"geometry_view: 0 0 0 {x} {y} {z} {dx} {dy} {dz} hland_tube_ring_B_025_01 n \\n\")\n",
    "\n",
    "# Output success message\n",
    "print(\"gprMax input file 'hland_tube_ring_B_025_01.in' generated.\")"
   ]
  },
  {
   "cell_type": "code",
   "execution_count": null,
   "metadata": {},
   "outputs": [
    {
     "name": "stdout",
     "output_type": "stream",
     "text": [
      "gprMax input file 'hland_tube_ring_B_025_0.in' generated.\n"
     ]
    }
   ],
   "source": [
    "with open('hland_tube_ring_B_025_0.in', 'w') as f:\n",
    "\n",
    "    # Write the domain and discretization\n",
    "    f.write(f\"#domain: {x} {y} {z}\\n\")\n",
    "    f.write(f\"#dx_dy_dz: {dx} {dy} {dz}\\n\")\n",
    "    f.write(f\"#time_window: {9e-7}\\n\")\n",
    "\n",
    "    # Define the GPR source\n",
    "    f.write(f\"#waveform: ricker 1 {f_max/2} ricker_wavelet\\n\")\n",
    "    f.write(f\"#hertzian_dipole: z {x/10} {y_moon} {z/2} ricker_wavelet\\n\")\n",
    "    \n",
    "    f.write(f\"#soil_gen_bruggeman_moon: 1 10 0.1 3 24 34 1 9.5 41.5 48.5 11 21.5 soil_reg\\n\")\n",
    "    f.write(f\"#fractal_box: 0 {y_crust} 0 {x} {y_moon} {z} 2.5 0.75 0.75 1.5 25 soil_reg moon_regolith\\n\")\n",
    "\n",
    "    f.write(f\"#soil_gen_bruggeman_moon: 5 10.01 0.4 1.59 17.9 28 6.9 12.5 44.4 48.4 11.1 15 rocks_crust\\n\")\n",
    "    f.write(f\"#fractal_box: 0 0 0 {x} {y_crust} {z} 2.5 0.75 0.75 1.5 25 rocks_crust moon_crust\\n\")\n",
    "\n",
    "    eps_r_value = 7.6\n",
    "    sigma_value = 1e-10\n",
    "    mu_r_value = 1.0\n",
    "    sigma_m_value = 0.0\n",
    "    f.write(f\"#material: {eps_r_value} {sigma_value} {mu_r_value} {sigma_m_value} moon_lava_tube \\n\")\n",
    "    # Dielectric smoothing needs to be turned off, add higher discretization for numerical stability\n",
    "\n",
    "    # Loop over each cell to define the materials\n",
    "    for i in range(len(x_mask)):\n",
    "        # Get the dielectric properties for the current cell\n",
    "        f.write(f\"#box: {x_mask[i]} {y_mask[i]} {z_mask[i]} {x_mask[i]+dx} {y_mask[i]+dy} {z_mask[i]+dz} moon_lava_tube n\\n\")\n",
    "\n",
    "    for i in range(len(points_cave_vacuum_all)):\n",
    "        # Get the dielectric properties for the current cell\n",
    "        f.write(f\"#box: {points_cave_vacuum_all[i][0]} {points_cave_vacuum_all[i][1]} {points_cave_vacuum_all[i][2]} {points_cave_vacuum_all[i][0]+dx} {points_cave_vacuum_all[i][1]+dy} {points_cave_vacuum_all[i][2]+dz} free_space n\\n\")\n",
    "\n",
    "    f.write(f\"#rx: {x/10 + x_co} {y_moon} {z/2}\\n\")\n",
    "    f.write(f\"#src_steps: {x_step} 0 0\\n#rx_steps: {x_step} 0 0\\n\")\n",
    "    f.write(f\"geometry_view: 0 0 0 {x} {y} {z} {dx} {dy} {dz} hland_tube_ring_B_025_0 n \\n\")\n",
    "\n",
    "# Output success message\n",
    "print(\"gprMax input file 'hland_tube_ring_B_025_0.in' generated.\")"
   ]
  },
  {
   "cell_type": "code",
   "execution_count": null,
   "metadata": {},
   "outputs": [
    {
     "name": "stdout",
     "output_type": "stream",
     "text": [
      "gprMax input file 'hland_tube_vacuum_B_0_0.in' generated.\n"
     ]
    }
   ],
   "source": [
    "with open('hland_tube_vacuum_B_0_0.in', 'w') as f:\n",
    "\n",
    "    # Write the domain and discretization\n",
    "    f.write(f\"#domain: {x} {y} {z}\\n\")\n",
    "    f.write(f\"#dx_dy_dz: {dx} {dy} {dz}\\n\")\n",
    "    f.write(f\"#time_window: {9e-7}\\n\")\n",
    "\n",
    "    # Define the GPR source\n",
    "    f.write(f\"#waveform: ricker 1 {f_max/2} ricker_wavelet\\n\")\n",
    "    f.write(f\"#hertzian_dipole: z {x/10} {y_moon} {z/2} ricker_wavelet\\n\")\n",
    "    \n",
    "    f.write(f\"#soil_gen_bruggeman_moon: 1 10 0.1 3 24 34 1 9.5 41.5 48.5 11 21.5 soil_reg\\n\")\n",
    "    f.write(f\"#fractal_box: 0 {y_crust} 0 {x} {y_moon} {z} 2.5 0.75 0.75 1.5 25 soil_reg moon_regolith\\n\")\n",
    "\n",
    "    f.write(f\"#soil_gen_bruggeman_moon: 5 10.01 0.4 1.59 17.9 28 6.9 12.5 44.4 48.4 11.1 15 rocks_crust\\n\")\n",
    "    f.write(f\"#fractal_box: 0 0 0 {x} {y_crust} {z} 2.5 0.75 0.75 1.5 25 rocks_crust moon_crust\\n\")\n",
    "\n",
    "    # Loop over each cell to define the materials\n",
    "    for i in range(len(x_mask)):\n",
    "        # Get the dielectric properties for the current cell\n",
    "        f.write(f\"#box: {x_mask[i]} {y_mask[i]} {z_mask[i]} {x_mask[i]+dx} {y_mask[i]+dy} {z_mask[i]+dz} free_space n\\n\")\n",
    "\n",
    "    f.write(f\"#rx: {x/10} {y_moon} {z/2}\\n\")\n",
    "    f.write(f\"#src_steps: {x_step} 0 0\\n#rx_steps: {x_step} 0 0\\n\")\n",
    "    f.write(f\"geometry_view: 0 0 0 {x} {y} {z} {dx} {dy} {dz} hland_tube_vacuum_B_0_0 n \\n\")\n",
    "\n",
    "# Output success message\n",
    "print(\"gprMax input file 'hland_tube_vacuum_B_0_0.in' generated.\")"
   ]
  },
  {
   "cell_type": "code",
   "execution_count": null,
   "metadata": {},
   "outputs": [
    {
     "name": "stdout",
     "output_type": "stream",
     "text": [
      "gprMax input file 'hland_tube_vacuum_B_0_01.in' generated.\n"
     ]
    }
   ],
   "source": [
    "with open('hland_tube_vacuum_B_0_01.in', 'w') as f:\n",
    "\n",
    "    # Write the domain and discretization\n",
    "    f.write(f\"#domain: {x} {y} {z}\\n\")\n",
    "    f.write(f\"#dx_dy_dz: {dx} {dy} {dz}\\n\")\n",
    "    f.write(f\"#time_window: {9e-7}\\n\")\n",
    "\n",
    "    # Define the GPR source\n",
    "    f.write(f\"#waveform: ricker 1 {f_max/2} ricker_wavelet\\n\")\n",
    "    f.write(f\"#hertzian_dipole: z {x/10} {y_moon + y_gpr} {z/2} ricker_wavelet\\n\")\n",
    "    \n",
    "    f.write(f\"#soil_gen_bruggeman_moon: 1 10 0.1 3 24 34 1 9.5 41.5 48.5 11 21.5 soil_reg\\n\")\n",
    "    f.write(f\"#fractal_box: 0 {y_crust} 0 {x} {y_moon} {z} 2.5 0.75 0.75 1.5 25 soil_reg moon_regolith\\n\")\n",
    "\n",
    "    f.write(f\"#soil_gen_bruggeman_moon: 5 10.01 0.4 1.59 17.9 28 6.9 12.5 44.4 48.4 11.1 15 rocks_crust\\n\")\n",
    "    f.write(f\"#fractal_box: 0 0 0 {x} {y_crust} {z} 2.5 0.75 0.75 1.5 25 rocks_crust moon_crust\\n\")\n",
    "\n",
    "    # Loop over each cell to define the materials\n",
    "    for i in range(len(x_mask)):\n",
    "        # Get the dielectric properties for the current cell\n",
    "        f.write(f\"#box: {x_mask[i]} {y_mask[i]} {z_mask[i]} {x_mask[i]+dx} {y_mask[i]+dy} {z_mask[i]+dz} free_space n\\n\")\n",
    "\n",
    "    f.write(f\"#rx: {x/10} {y_moon} {z/2}\\n\")\n",
    "    f.write(f\"#src_steps: {x_step} 0 0\\n#rx_steps: {x_step} 0 0\\n\")\n",
    "    f.write(f\"geometry_view: 0 0 0 {x} {y} {z} {dx} {dy} {dz} hland_tube_vacuum_B_0_01 n \\n\")\n",
    "\n",
    "# Output success message\n",
    "print(\"gprMax input file 'hland_tube_vacuum_B_0_01.in' generated.\")"
   ]
  },
  {
   "cell_type": "code",
   "execution_count": null,
   "metadata": {},
   "outputs": [
    {
     "name": "stdout",
     "output_type": "stream",
     "text": [
      "gprMax input file 'hland_tube_vacuum_B_025_01.in' generated.\n"
     ]
    }
   ],
   "source": [
    "with open('hland_tube_vacuum_B_025_01.in', 'w') as f:\n",
    "\n",
    "    # Write the domain and discretization\n",
    "    f.write(f\"#domain: {x} {y} {z}\\n\")\n",
    "    f.write(f\"#dx_dy_dz: {dx} {dy} {dz}\\n\")\n",
    "    f.write(f\"#time_window: {9e-7}\\n\")\n",
    "\n",
    "    # Define the GPR source\n",
    "    f.write(f\"#waveform: ricker 1 {f_max/2} ricker_wavelet\\n\")\n",
    "    f.write(f\"#hertzian_dipole: z {x/10} {y_moon + y_gpr} {z/2} ricker_wavelet\\n\")\n",
    "    \n",
    "    f.write(f\"#soil_gen_bruggeman_moon: 1 10 0.1 3 24 34 1 9.5 41.5 48.5 11 21.5 soil_reg\\n\")\n",
    "    f.write(f\"#fractal_box: 0 {y_crust} 0 {x} {y_moon} {z} 2.5 0.75 0.75 1.5 25 soil_reg moon_regolith\\n\")\n",
    "\n",
    "    f.write(f\"#soil_gen_bruggeman_moon: 5 10.01 0.4 1.59 17.9 28 6.9 12.5 44.4 48.4 11.1 15 rocks_crust\\n\")\n",
    "    f.write(f\"#fractal_box: 0 0 0 {x} {y_crust} {z} 2.5 0.75 0.75 1.5 25 rocks_crust moon_crust\\n\")\n",
    "\n",
    "    # Loop over each cell to define the materials\n",
    "    for i in range(len(x_mask)):\n",
    "        # Get the dielectric properties for the current cell\n",
    "        f.write(f\"#box: {x_mask[i]} {y_mask[i]} {z_mask[i]} {x_mask[i]+dx} {y_mask[i]+dy} {z_mask[i]+dz} free_space n\\n\")\n",
    "\n",
    "    f.write(f\"#rx: {x/2 + x_co} {y_moon} {z/2}\\n\")\n",
    "    f.write(f\"#src_steps: {x_step} 0 0\\n#rx_steps: {x_step} 0 0\\n\")\n",
    "    f.write(f\"geometry_view: 0 0 0 {x} {y} {z} {dx} {dy} {dz} hland_tube_vacuum_B_025_01 n \\n\")\n",
    "\n",
    "# Output success message\n",
    "print(\"gprMax input file 'hland_tube_vacuum_B_025_01.in' generated.\")"
   ]
  },
  {
   "cell_type": "code",
   "execution_count": null,
   "metadata": {},
   "outputs": [
    {
     "name": "stdout",
     "output_type": "stream",
     "text": [
      "gprMax input file 'hland_tube_vacuum_B_025_0.in' generated.\n"
     ]
    }
   ],
   "source": [
    "with open('hland_tube_vacuum_B_025_0.in', 'w') as f:\n",
    "\n",
    "    # Write the domain and discretization\n",
    "    f.write(f\"#domain: {x} {y} {z}\\n\")\n",
    "    f.write(f\"#dx_dy_dz: {dx} {dy} {dz}\\n\")\n",
    "    f.write(f\"#time_window: {9e-7}\\n\")\n",
    "\n",
    "    # Define the GPR source\n",
    "    f.write(f\"#waveform: ricker 1 {f_max/2} ricker_wavelet\\n\")\n",
    "    f.write(f\"#hertzian_dipole: z {x/10} {y_moon} {z/2} ricker_wavelet\\n\")\n",
    "    \n",
    "    f.write(f\"#soil_gen_bruggeman_moon: 1 10 0.1 3 24 34 1 9.5 41.5 48.5 11 21.5 soil_reg\\n\")\n",
    "    f.write(f\"#fractal_box: 0 {y_crust} 0 {x} {y_moon} {z} 2.5 0.75 0.75 1.5 25 soil_reg moon_regolith\\n\")\n",
    "\n",
    "    f.write(f\"#soil_gen_bruggeman_moon: 5 10.01 0.4 1.59 17.9 28 6.9 12.5 44.4 48.4 11.1 15 rocks_crust\\n\")\n",
    "    f.write(f\"#fractal_box: 0 0 0 {x} {y_crust} {z} 2.5 0.75 0.75 1.5 25 rocks_crust moon_crust\\n\")\n",
    "\n",
    "    # Loop over each cell to define the materials\n",
    "    for i in range(len(x_mask)):\n",
    "        # Get the dielectric properties for the current cell\n",
    "        f.write(f\"#box: {x_mask[i]} {y_mask[i]} {z_mask[i]} {x_mask[i]+dx} {y_mask[i]+dy} {z_mask[i]+dz} free_space n\\n\")\n",
    "\n",
    "    f.write(f\"#rx: {x/10 + x_co} {y_moon} {z/2}\\n\")\n",
    "    f.write(f\"#src_steps: {x_step} 0 0\\n#rx_steps: {x_step} 0 0\\n\")\n",
    "    f.write(f\"geometry_view: 0 0 0 {x} {y} {z} {dx} {dy} {dz} hland_tube_vacuum_B_025_0 n \\n\")\n",
    "\n",
    "# Output success message\n",
    "print(\"gprMax input file 'hland_tube_vacuum_B_025_0.in' generated.\")"
   ]
  }
 ],
 "metadata": {
  "kernelspec": {
   "display_name": "Python 3",
   "language": "python",
   "name": "python3"
  },
  "language_info": {
   "codemirror_mode": {
    "name": "ipython",
    "version": 3
   },
   "file_extension": ".py",
   "mimetype": "text/x-python",
   "name": "python",
   "nbconvert_exporter": "python",
   "pygments_lexer": "ipython3",
   "version": "3.11.4"
  }
 },
 "nbformat": 4,
 "nbformat_minor": 2
}
