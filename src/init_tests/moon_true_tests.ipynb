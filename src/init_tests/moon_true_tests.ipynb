{
 "cells": [
  {
   "cell_type": "code",
   "execution_count": 1,
   "metadata": {},
   "outputs": [
    {
     "name": "stdout",
     "output_type": "stream",
     "text": [
      "nx: 384, ny: 230, nz: 192\n",
      "Domain: 50.0 x 30.0 x 25.0\n",
      "Base Permittivity of Moon: 3.682561\n",
      "Frequency: 50000000.0\n",
      "Wavelength: 1.5633142261594581\n",
      "Grid: 0.13 x 0.13 x 0.13\n",
      "Time Window: 3.198333333333333e-07\n"
     ]
    }
   ],
   "source": [
    "import pandas as pd\n",
    "import numpy as np\n",
    "\n",
    "scale = 0.25\n",
    "\n",
    "# Domain\n",
    "x = 200*scale\n",
    "z = 100*scale\n",
    "y_air = 20*scale\n",
    "y_moon = 100*scale\n",
    "y = y_moon + y_air\n",
    "\n",
    "# Reglith Layer\n",
    "y_regolith = 4.5*scale\n",
    "\n",
    "# Crust Layer\n",
    "y_crust = y_moon - y_regolith\n",
    "\n",
    "# Frequency and Wavelength\n",
    "f_max = 2*50e6 # Maximum Relevant Frequency for the Ricker Wavelet\n",
    "c = 3e8\n",
    "\n",
    "# Permittivity and Density\n",
    "density = 2 # g/cm^3\n",
    "eps_bg = 1.919**density # Background Permittivity for Moon\n",
    "vel_bg = c / eps_bg**0.5\n",
    "\n",
    "lambda_0 = c / (f_max * eps_bg**0.5)\n",
    "\n",
    "# # Fresnel Zone - Radius\n",
    "# R = 0.5 * (lambda_0 * d)**0.5\n",
    "# y = 4 * R\n",
    "\n",
    "# Grid Descretization\n",
    "dx = np.round(lambda_0 / 12, 3)\n",
    "dy = np.round(lambda_0 / 12, 3)\n",
    "dz = np.round(lambda_0 / 12, 3)\n",
    "\n",
    "nx = int(x / dx)\n",
    "ny = int(y / dy)\n",
    "nz = int(z / dz)\n",
    "print(f\"nx: {nx}, ny: {ny}, nz: {nz}\")\n",
    "\n",
    "# x_grid, y_grid, z_grid = np.meshgrid(x_vals, y_vals, z_vals, indexing='xy')\n",
    "\n",
    "# Time Window\n",
    "time_window = 2 * y_moon / vel_bg\n",
    "\n",
    "# Print\n",
    "print(f\"Domain: {x} x {y} x {z}\")\n",
    "print(f\"Base Permittivity of Moon: {eps_bg}\")\n",
    "print(f\"Frequency: {f_max/2}\")\n",
    "print(f\"Wavelength: {lambda_0}\")\n",
    "# print(f\"Fresnel Zone Radius: {R}\")\n",
    "print(f\"Grid: {dx} x {dy} x {dz}\")\n",
    "print(f\"Time Window: {time_window}\")\n"
   ]
  },
  {
   "cell_type": "code",
   "execution_count": 2,
   "metadata": {},
   "outputs": [
    {
     "name": "stdout",
     "output_type": "stream",
     "text": [
      "gprMax input file '5_moon_true_heterogeneous.in' generated.\n"
     ]
    }
   ],
   "source": [
    "with open('5_moon_true_heterogeneous.in', 'w') as f:\n",
    "\n",
    "    # Write the domain and discretization\n",
    "    f.write(f\"#domain: {x} {y} {z}\\n\")\n",
    "    f.write(f\"#dx_dy_dz: {dx} {dy} {dz}\\n\")\n",
    "    f.write(f\"#time_window: {time_window}\\n\")\n",
    "\n",
    "    # Define the GPR source\n",
    "    f.write(\"#waveform: ricker 1 50e6 ricker_wavelet\\n\")\n",
    "    f.write(f\"#hertzian_dipole: z {x/2 - 5} {y_moon} {z/2} ricker_wavelet\\n\")\n",
    "    \n",
    "    f.write(f\"#soil_gen_bruggeman_moon: 13 17.8 2.2 3.2 13.5 15.5 7.5 12.5 40.5 47.5 8.5 12.5 soil_reg\\n\")\n",
    "    f.write(f\"#fractal_box: 0 {y_crust} 0 {x} {y_moon} {z} 2.5 0.75 0.75 1.5 1 soil_reg moon_regolith\\n\")\n",
    "\n",
    "    f.write(f\"#soil_gen_bruggeman_moon: 19 22 1 6 6 10.5 6 11.5 42 47 9.5 10.5 rocks_crust\\n\")\n",
    "    f.write(f\"#fractal_box: 0 0 0 {x} {y_crust} {z} 2.5 0.75 0.75 1.5 1 rocks_crust moon_crust\\n\")\n",
    "\n",
    "    f.write(f\"#rx: {x/2 + 5} {y_moon} {z/2}\\n\")\n",
    "    f.write(f\"#geometry_view: 0 0 0 {x} {y} {z} {dx} {dy} {dz} 5_moon_true_heterogeneous n \\n\")\n",
    "\n",
    "# Output success message\n",
    "print(\"gprMax input file '5_moon_true_heterogeneous.in' generated.\")"
   ]
  },
  {
   "cell_type": "code",
   "execution_count": null,
   "metadata": {},
   "outputs": [],
   "source": [
    "with open('6_moon_true_heterogeneous_pec.in', 'w') as f:\n",
    "\n",
    "    # Write the domain and discretization\n",
    "    f.write(f\"#domain: {x} {y} {z}\\n\")\n",
    "    f.write(f\"#dx_dy_dz: {dx} {dy} {dz}\\n\")\n",
    "    f.write(f\"#time_window: {time_window}\\n\")\n",
    "\n",
    "    # Define the GPR source\n",
    "    f.write(\"#waveform: ricker 1 50e6 ricker_wavelet\\n\")\n",
    "    f.write(f\"#hertzian_dipole: z {x/2 - 5} {y_moon} {z/2} ricker_wavelet\\n\")\n",
    "    \n",
    "    f.write(f\"#soil_gen_bruggeman_moon: 13 17.8 2.2 3.2 13.5 15.5 7.5 12.5 40.5 47.5 8.5 12.5 soil_reg\\n\")\n",
    "    f.write(f\"#fractal_box: 0 {y_crust} 0 {x} {y_moon} {z} 2.5 0.75 0.75 1.5 1 soil_reg moon_regolith\\n\")\n",
    "\n",
    "    f.write(f\"#soil_gen_bruggeman_moon: 19 22 1 6 6 10.5 6 11.5 42 47 9.5 10.5 rocks_crust\\n\")\n",
    "    f.write(f\"#fractal_box: 0 0 0 {x} {y_crust} {z} 2.5 0.75 0.75 1.5 1 rocks_crust moon_crust\\n\")\n",
    "\n",
    "    f.write(f\"#cylinder: 25 17.5 0 25 17.5 25 5 pec\\n\")\n",
    "\n",
    "    f.write(f\"#rx: {x/2 + 5} {y_moon} {z/2}\\n\")\n",
    "    f.write(f\"#geometry_view: 0 0 0 {x} {y} {z} {dx} {dy} {dz} 6_moon_true_heterogeneous_pec n \\n\")\n",
    "\n",
    "# Output success message\n",
    "print(\"gprMax input file '6_moon_true_heterogeneous_pec.in' generated.\")"
   ]
  }
 ],
 "metadata": {
  "kernelspec": {
   "display_name": "Python 3",
   "language": "python",
   "name": "python3"
  },
  "language_info": {
   "codemirror_mode": {
    "name": "ipython",
    "version": 3
   },
   "file_extension": ".py",
   "mimetype": "text/x-python",
   "name": "python",
   "nbconvert_exporter": "python",
   "pygments_lexer": "ipython3",
   "version": "3.11.4"
  }
 },
 "nbformat": 4,
 "nbformat_minor": 2
}
