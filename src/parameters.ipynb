{
 "cells": [
  {
   "cell_type": "code",
   "execution_count": 1,
   "metadata": {},
   "outputs": [
    {
     "name": "stdout",
     "output_type": "stream",
     "text": [
      "nx: 1538, ny: 615, nz: 769\n",
      "Domain: 200 x 80 x 100\n",
      "Depth of Heterogeneity: 10\n",
      "Base Permittivity of Moon: 3.682561\n",
      "Frequency: 50000000.0\n",
      "Wavelength: 1.5633142261594581\n",
      "Grid: 0.13 x 0.13 x 0.13\n",
      "Time Window: 1.0234666666666666e-06\n"
     ]
    }
   ],
   "source": [
    "import pandas as pd\n",
    "import numpy as np\n",
    "\n",
    "# Domain\n",
    "x = 200\n",
    "z = 100\n",
    "y = 50+30 # 50m for the Moon and 30m for the Air\n",
    "\n",
    "# Depth of Heterogeneity\n",
    "d = 10\n",
    "\n",
    "# Frequency and Wavelength\n",
    "f = 2*50e6 # Maximum Relevant Frequency for the Ricker Wavelet\n",
    "c = 3e8\n",
    "\n",
    "# Permittivity and Density\n",
    "density = 2 # g/cm^3\n",
    "eps_bg = 1.919**density # Background Permittivity for Moon\n",
    "vel_bg = c / eps_bg**0.5\n",
    "\n",
    "lambda_0 = c / (f * eps_bg**0.5)\n",
    "\n",
    "# # Fresnel Zone - Radius\n",
    "# R = 0.5 * (lambda_0 * d)**0.5\n",
    "# y = 4 * R\n",
    "\n",
    "# Grid Descretization\n",
    "dx = np.round(lambda_0 / 12, 3)\n",
    "dy = np.round(lambda_0 / 12, 3)\n",
    "dz = np.round(lambda_0 / 12, 3)\n",
    "\n",
    "nx = int(x / dx)\n",
    "ny = int(y / dy)\n",
    "nz = int(z / dz)\n",
    "print(f\"nx: {nx}, ny: {ny}, nz: {nz}\")\n",
    "\n",
    "# x_grid, y_grid, z_grid = np.meshgrid(x_vals, y_vals, z_vals, indexing='xy')\n",
    "\n",
    "# Time Window\n",
    "time_window = 2 * y / vel_bg\n",
    "\n",
    "# Print\n",
    "print(f\"Domain: {x} x {y} x {z}\")\n",
    "print(f\"Depth of Heterogeneity: {d}\")\n",
    "print(f\"Base Permittivity of Moon: {eps_bg}\")\n",
    "print(f\"Frequency: {f/2}\")\n",
    "print(f\"Wavelength: {lambda_0}\")\n",
    "# print(f\"Fresnel Zone Radius: {R}\")\n",
    "print(f\"Grid: {dx} x {dy} x {dz}\")\n",
    "print(f\"Time Window: {time_window}\")\n"
   ]
  },
  {
   "cell_type": "code",
   "execution_count": 2,
   "metadata": {},
   "outputs": [
    {
     "name": "stdout",
     "output_type": "stream",
     "text": [
      "X_min: 35.02539050002815\n",
      "X_max: 164.97460949997185\n",
      "Y_min: 14.520020000000159\n",
      "Y_max: 40.0\n",
      "Z_min: 18.73046849993989\n",
      "Z_max: 81.26953150006011\n"
     ]
    },
    {
     "data": {
      "text/plain": [
       "'f:\\\\Projects\\\\LunarLeaper\\\\LLGPR\\\\src\\\\LiDAR_InclineCave_TUBE_adjusted.vtu'"
      ]
     },
     "execution_count": 2,
     "metadata": {},
     "output_type": "execute_result"
    }
   ],
   "source": [
    "# Editing the Lava Tube Points to Comply with the Domain\n",
    "\n",
    "data_all = pd.read_csv('../LavaTubeData/LiDAR_InclineCave_TUBE_TLS_points.txt', sep=' ', header=None)\n",
    "# Convert to numpy arrays X, Y, Z\n",
    "data_points = data_all.to_numpy()\n",
    "X = data_points[:, 0]\n",
    "Y = data_points[:, 2]\n",
    "Z = data_points[:, 1]\n",
    "\n",
    "# Find the minimum and maximum values of X, Y, Z, and find their index\n",
    "\n",
    "X_min_index = X.argmin() \n",
    "X_min = X[X_min_index]\n",
    "X_max_index = X.argmax()\n",
    "X_max = X[X_max_index]\n",
    "Y_min_index = Y.argmin()\n",
    "Y_min = Y[Y_min_index]\n",
    "Y_max_index = Y.argmax()\n",
    "Y_max = Y[Y_max_index]\n",
    "Z_min_index = Z.argmin()\n",
    "Z_min = Z[Z_min_index]\n",
    "Z_max_index = Z.argmax()\n",
    "Z_max = Z[Z_max_index]\n",
    "\n",
    "# Shift all points in X, Y, Z to the center of the domain\n",
    "X = X - X_min\n",
    "Y = Y - Y_min\n",
    "Z = Z - Z_min\n",
    "\n",
    "X_min_index = X.argmin() \n",
    "X_min = X[X_min_index]\n",
    "X_max_index = X.argmax()\n",
    "X_max = X[X_max_index]\n",
    "Y_min_index = Y.argmin()\n",
    "Y_min = Y[Y_min_index]\n",
    "Y_max_index = Y.argmax()\n",
    "Y_max = Y[Y_max_index]\n",
    "Z_min_index = Z.argmin()\n",
    "Z_min = Z[Z_min_index]\n",
    "Z_max_index = Z.argmax()\n",
    "Z_max = Z[Z_max_index]\n",
    "\n",
    "X = X - (X_min + X_max)/2 + x/2\n",
    "Y = Y - Y_max + y - d - 30\n",
    "Z = Z - (Z_min + Z_max)/2 + z/2\n",
    "\n",
    "X_min_index = X.argmin() \n",
    "X_min = X[X_min_index]\n",
    "X_max_index = X.argmax()\n",
    "X_max = X[X_max_index]\n",
    "Y_min_index = Y.argmin()\n",
    "Y_min = Y[Y_min_index]\n",
    "Y_max_index = Y.argmax()\n",
    "Y_max = Y[Y_max_index]\n",
    "Z_min_index = Z.argmin()\n",
    "Z_min = Z[Z_min_index]\n",
    "Z_max_index = Z.argmax()\n",
    "Z_max = Z[Z_max_index]\n",
    "\n",
    "print(f\"X_min: {X_min}\")\n",
    "print(f\"X_max: {X_max}\")\n",
    "print(f\"Y_min: {Y_min}\")\n",
    "print(f\"Y_max: {Y_max}\")\n",
    "print(f\"Z_min: {Z_min}\")\n",
    "print(f\"Z_max: {Z_max}\")\n",
    "\n",
    "data_all_shifted = pd.DataFrame(np.column_stack((X, Y, Z)))\n",
    "data_all_shifted = data_all_shifted.to_numpy()\n",
    "\n",
    "# Save the new points to vtk\n",
    "from pyevtk.hl import pointsToVTK\n",
    "pointsToVTK(\"LiDAR_InclineCave_TUBE_adjusted\", X, Y, Z)"
   ]
  },
  {
   "cell_type": "code",
   "execution_count": 3,
   "metadata": {},
   "outputs": [],
   "source": [
    "# def uniform_resample_point_cloud(point_cloud, grid_spacing, X_min, X_max, Y_min, Y_max, Z_min, Z_max):\n",
    "#     # Compute the bounding box of the point cloud\n",
    "#     min_bounds = np.array([X_min, Y_min, Z_min])\n",
    "#     max_bounds = np.array([X_max, Y_max, Z_max])\n",
    "\n",
    "#     # Create a grid of points within the bounding box\n",
    "#     x = np.arange(min_bounds[0], max_bounds[0], grid_spacing)\n",
    "#     y = np.arange(min_bounds[1], max_bounds[1], grid_spacing)\n",
    "#     z = np.arange(min_bounds[2], max_bounds[2], grid_spacing)\n",
    "#     grid_points = np.array(np.meshgrid(x, y, z)).T.reshape(-1, 3)\n",
    "\n",
    "#     # Find the closest point in the original point cloud to each grid point\n",
    "#     resampled_points = []\n",
    "#     for gp in grid_points:\n",
    "#         # Calculate the distance from the grid point to all points in the original point cloud\n",
    "#         distances = np.linalg.norm(point_cloud - gp, axis=1)\n",
    "#         # Select the closest point\n",
    "#         closest_point = point_cloud[np.argmin(distances)]\n",
    "#         resampled_points.append(closest_point)\n",
    "\n",
    "#     return np.array(resampled_points)\n",
    "\n",
    "# # Example usage\n",
    "# data_all_resampled = uniform_resample_point_cloud(data_all_shifted, dx, X_min, X_max, Y_min, Y_max, Z_min, Z_max)\n",
    "\n",
    "# # Save the new points to vtk\n",
    "# pointsToVTK(\"LiDAR_InclineCave_TUBE_resampled\", data_all_resampled[:, 0], data_all_resampled[:, 2], data_all_resampled[:, 1])"
   ]
  },
  {
   "cell_type": "code",
   "execution_count": 4,
   "metadata": {},
   "outputs": [],
   "source": [
    "from scipy.spatial import Delaunay\n",
    "from scipy.interpolate import LinearNDInterpolator\n",
    "\n",
    "# Example point cloud data (replace with your actual data)\n",
    "permittivity_values = 7.6* np.ones_like(X)"
   ]
  },
  {
   "cell_type": "code",
   "execution_count": 5,
   "metadata": {},
   "outputs": [],
   "source": [
    "#Grid\n",
    "x_val = np.linspace(0, x, 10)\n",
    "y_val = np.linspace(0, y, 10)\n",
    "z_val = np.linspace(0, z, 8)\n",
    "\n",
    "# # Create Delaunay triangulation\n",
    "# points = np.column_stack((X, Y, Z))\n",
    "# tri = Delaunay(points)\n",
    "\n",
    "# # Create interpolator for permittivity values\n",
    "# interpolator = LinearNDInterpolator(tri, permittivity_values)\n",
    "# Could use batch processing to make it faster\n",
    "# for ix, x in enumerate(x_val):\n",
    "#     for iy, y in enumerate(y_val):\n",
    "#         for iz, z in enumerate(z_val):\n",
    "#             # Interpolate permittivity at current grid point\n",
    "#             if tri.find_simplex([x, y, z]) >= 0:\n",
    "#                 permittivity = interpolator(x, y, z)                \n",
    "#             print(1,end=' ')\n"
   ]
  },
  {
   "cell_type": "code",
   "execution_count": 6,
   "metadata": {},
   "outputs": [],
   "source": [
    "meshgrid_x, meshgrid_y, meshgrid_z = np.meshgrid(x_val, y_val, z_val, indexing='ij')\n",
    "points = np.vstack((meshgrid_x.flatten(), meshgrid_y.flatten(), meshgrid_z.flatten())).T\n",
    "\n",
    "# Create Delaunay triangulation\n",
    "tri = Delaunay(np.column_stack((X, Y, Z)))"
   ]
  },
  {
   "cell_type": "code",
   "execution_count": 7,
   "metadata": {},
   "outputs": [],
   "source": [
    "# Check which points are within the convex hull\n",
    "simplex_indices = tri.find_simplex(points)\n",
    "mask = simplex_indices >= 0\n",
    "\n",
    "# Initialize permittivity array with default value (or NaN)\n",
    "permittivity_array = 3.6 * np.ones(meshgrid_x.shape)"
   ]
  },
  {
   "cell_type": "code",
   "execution_count": 8,
   "metadata": {},
   "outputs": [
    {
     "ename": "IndexError",
     "evalue": "boolean index did not match indexed array along axis 0; size of axis is 10 but size of corresponding boolean axis is 800",
     "output_type": "error",
     "traceback": [
      "\u001b[1;31m---------------------------------------------------------------------------\u001b[0m",
      "\u001b[1;31mIndexError\u001b[0m                                Traceback (most recent call last)",
      "Cell \u001b[1;32mIn[8], line 5\u001b[0m\n\u001b[0;32m      2\u001b[0m interpolator \u001b[38;5;241m=\u001b[39m LinearNDInterpolator(tri, permittivity_values)\n\u001b[0;32m      4\u001b[0m \u001b[38;5;66;03m# Interpolate permittivity values only where within convex hull\u001b[39;00m\n\u001b[1;32m----> 5\u001b[0m \u001b[43mpermittivity_array\u001b[49m\u001b[43m[\u001b[49m\u001b[43mmask\u001b[49m\u001b[43m]\u001b[49m \u001b[38;5;241m=\u001b[39m interpolator(points[mask])\n\u001b[0;32m      7\u001b[0m \u001b[38;5;66;03m# Permittivity model for subsurface of moon without topography\u001b[39;00m\n",
      "\u001b[1;31mIndexError\u001b[0m: boolean index did not match indexed array along axis 0; size of axis is 10 but size of corresponding boolean axis is 800"
     ]
    }
   ],
   "source": [
    "# Create interpolator for permittivity values\n",
    "interpolator = LinearNDInterpolator(tri, permittivity_values)\n",
    "\n",
    "# Interpolate permittivity values only where within convex hull\n",
    "permittivity_array[mask] = interpolator(points[mask])\n",
    "\n",
    "# Permittivity model for subsurface of moon without topography\n"
   ]
  }
 ],
 "metadata": {
  "kernelspec": {
   "display_name": "Python 3",
   "language": "python",
   "name": "python3"
  },
  "language_info": {
   "codemirror_mode": {
    "name": "ipython",
    "version": 3
   },
   "file_extension": ".py",
   "mimetype": "text/x-python",
   "name": "python",
   "nbconvert_exporter": "python",
   "pygments_lexer": "ipython3",
   "version": "3.11.4"
  }
 },
 "nbformat": 4,
 "nbformat_minor": 2
}
