{
 "cells": [
  {
   "cell_type": "code",
   "execution_count": 3,
   "metadata": {},
   "outputs": [
    {
     "name": "stdout",
     "output_type": "stream",
     "text": [
      "Domain: 50 x 8.293722080647274 x 50\n",
      "Depth of Heterogeneity: 11\n",
      "Base Permittivity of Moon: 3.682561\n",
      "Frequency: 50000000.0\n",
      "Wavelength: 1.5633142261594581\n",
      "Fresnel Zone Radius: 2.0734305201618186\n",
      "Grid: 0.15633142261594582 x 0.15633142261594582 x 0.15633142261594582\n",
      "Time Window: 1.4072666666666664e-07\n"
     ]
    }
   ],
   "source": [
    "# Domain\n",
    "x = 50\n",
    "z = 50\n",
    "\n",
    "# Depth of Heterogeneity\n",
    "d = 10+1\n",
    "\n",
    "# Frequency and Wavelength\n",
    "f = 2*50e6\n",
    "c = 3e8\n",
    "\n",
    "# Permittivity and Density\n",
    "density = 2 # g/cm^3\n",
    "eps_bg = 1.919**density # Background Permittivity for Moon\n",
    "vel_bg = c / eps_bg**0.5\n",
    "\n",
    "lambda_0 = c / (f * eps_bg**0.5)\n",
    "\n",
    "# Fresnel Zone - Radius\n",
    "R = 0.5 * (lambda_0 * d)**0.5\n",
    "y = 4 * R\n",
    "\n",
    "# Grid\n",
    "dx = lambda_0 / 10\n",
    "dy = lambda_0 / 10\n",
    "dz = lambda_0 / 10\n",
    "\n",
    "# Time Window\n",
    "time_window = 2 * d / vel_bg\n",
    "\n",
    "# Print\n",
    "print(f\"Domain: {x} x {y} x {z}\")\n",
    "print(f\"Depth of Heterogeneity: {d}\")\n",
    "print(f\"Base Permittivity of Moon: {eps_bg}\")\n",
    "print(f\"Frequency: {f/2}\")\n",
    "print(f\"Wavelength: {lambda_0}\")\n",
    "print(f\"Fresnel Zone Radius: {R}\")\n",
    "print(f\"Grid: {dx} x {dy} x {dz}\")\n",
    "print(f\"Time Window: {time_window}\")\n"
   ]
  }
 ],
 "metadata": {
  "kernelspec": {
   "display_name": "Python 3",
   "language": "python",
   "name": "python3"
  },
  "language_info": {
   "codemirror_mode": {
    "name": "ipython",
    "version": 3
   },
   "file_extension": ".py",
   "mimetype": "text/x-python",
   "name": "python",
   "nbconvert_exporter": "python",
   "pygments_lexer": "ipython3",
   "version": "3.11.4"
  }
 },
 "nbformat": 4,
 "nbformat_minor": 2
}
