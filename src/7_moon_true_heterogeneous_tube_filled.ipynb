{
 "cells": [
  {
   "cell_type": "code",
   "execution_count": 1,
   "metadata": {},
   "outputs": [
    {
     "name": "stdout",
     "output_type": "stream",
     "text": [
      "nx: 384, ny: 230, nz: 192\n",
      "Domain: 50.0 x 30.0 x 25.0\n",
      "Base Permittivity of Moon: 3.682561\n",
      "Frequency: 50000000.0\n",
      "Wavelength: 1.5633142261594581\n",
      "Grid: 0.13 x 0.13 x 0.13\n",
      "Time Window: 3.198333333333333e-07\n"
     ]
    }
   ],
   "source": [
    "import pandas as pd\n",
    "import numpy as np\n",
    "\n",
    "scale = 0.25\n",
    "\n",
    "# Domain\n",
    "x = 200*scale\n",
    "z = 100*scale\n",
    "y_air = 20*scale\n",
    "y_moon = 100*scale\n",
    "y = y_moon + y_air\n",
    "\n",
    "# Reglith Layer\n",
    "y_regolith = 5*scale\n",
    "\n",
    "# Crust Layer\n",
    "y_crust = y_moon - y_regolith\n",
    "\n",
    "# Frequency and Wavelength\n",
    "f_max = 2*50e6 # Maximum Relevant Frequency for the Ricker Wavelet\n",
    "c = 3e8\n",
    "\n",
    "# Permittivity and Density\n",
    "density = 2 # g/cm^3\n",
    "eps_bg = 1.919**density # Background Permittivity for Moon\n",
    "vel_bg = c / eps_bg**0.5\n",
    "\n",
    "lambda_0 = c / (f_max * eps_bg**0.5)\n",
    "\n",
    "# # Fresnel Zone - Radius\n",
    "# R = 0.5 * (lambda_0 * d)**0.5\n",
    "# y = 4 * R\n",
    "\n",
    "# Grid Descretization\n",
    "dx = np.round(lambda_0 / 12, 3)\n",
    "dy = np.round(lambda_0 / 12, 3)\n",
    "dz = np.round(lambda_0 / 12, 3)\n",
    "\n",
    "nx = int(x / dx)\n",
    "ny = int(y / dy)\n",
    "nz = int(z / dz)\n",
    "print(f\"nx: {nx}, ny: {ny}, nz: {nz}\")\n",
    "\n",
    "# x_grid, y_grid, z_grid = np.meshgrid(x_vals, y_vals, z_vals, indexing='xy')\n",
    "\n",
    "# Time Window\n",
    "time_window = 2 * y_moon / vel_bg\n",
    "\n",
    "# Print\n",
    "print(f\"Domain: {x} x {y} x {z}\")\n",
    "print(f\"Base Permittivity of Moon: {eps_bg}\")\n",
    "print(f\"Frequency: {f_max/2}\")\n",
    "print(f\"Wavelength: {lambda_0}\")\n",
    "# print(f\"Fresnel Zone Radius: {R}\")\n",
    "print(f\"Grid: {dx} x {dy} x {dz}\")\n",
    "print(f\"Time Window: {time_window}\")\n"
   ]
  },
  {
   "cell_type": "code",
   "execution_count": null,
   "metadata": {},
   "outputs": [
    {
     "name": "stdout",
     "output_type": "stream",
     "text": [
      "X_min: 8.756347625007038\n",
      "X_max: 41.24365237499296\n",
      "Y_min: 18.63000500000004\n",
      "Y_max: 25.0\n",
      "Z_min: 4.682617124984972\n",
      "Z_max: 20.317382875015028\n"
     ]
    },
    {
     "data": {
      "text/plain": [
       "'f:\\\\Projects\\\\LunarLeaper\\\\LLGPR\\\\src\\\\LiDAR_InclineCave_TUBE_adjusted.vtu'"
      ]
     },
     "metadata": {},
     "output_type": "display_data"
    }
   ],
   "source": [
    "# Editing the Lava Tube Points to Comply with the Domain\n",
    "\n",
    "data_all = pd.read_csv('../LavaTubeData/LiDAR_InclineCave_TUBE_TLS_points.txt', sep=' ', header=None)\n",
    "# Convert to numpy arrays X, Y, Z\n",
    "data_points = data_all.to_numpy()\n",
    "X = (data_points[:, 0])*scale\n",
    "Y = (data_points[:, 2])*scale\n",
    "Z = (data_points[:, 1])*scale\n",
    "\n",
    "# Find the minimum and maximum values of X, Y, Z, and find their index\n",
    "\n",
    "X_min_index = X.argmin() \n",
    "X_min = X[X_min_index]\n",
    "X_max_index = X.argmax()\n",
    "X_max = X[X_max_index]\n",
    "Y_min_index = Y.argmin()\n",
    "Y_min = Y[Y_min_index]\n",
    "Y_max_index = Y.argmax()\n",
    "Y_max = Y[Y_max_index]\n",
    "Z_min_index = Z.argmin()\n",
    "Z_min = Z[Z_min_index]\n",
    "Z_max_index = Z.argmax()\n",
    "Z_max = Z[Z_max_index]\n",
    "\n",
    "# Shift all points in X, Y, Z to the center of the domain\n",
    "X = X - X_min\n",
    "Y = Y - Y_min\n",
    "Z = Z - Z_min\n",
    "\n",
    "X_min_index = X.argmin() \n",
    "X_min = X[X_min_index]\n",
    "X_max_index = X.argmax()\n",
    "X_max = X[X_max_index]\n",
    "Y_min_index = Y.argmin()\n",
    "Y_min = Y[Y_min_index]\n",
    "Y_max_index = Y.argmax()\n",
    "Y_max = Y[Y_max_index]\n",
    "Z_min_index = Z.argmin()\n",
    "Z_min = Z[Z_min_index]\n",
    "Z_max_index = Z.argmax()\n",
    "Z_max = Z[Z_max_index]\n",
    "\n",
    "X = X - (X_min + X_max)/2 + x/2\n",
    "Y = Y - Y_max + y_moon\n",
    "Z = Z - (Z_min + Z_max)/2 + z/2\n",
    "\n",
    "X_min_index = X.argmin() \n",
    "X_min = X[X_min_index]\n",
    "X_max_index = X.argmax()\n",
    "X_max = X[X_max_index]\n",
    "Y_min_index = Y.argmin()\n",
    "Y_min = Y[Y_min_index]\n",
    "Y_max_index = Y.argmax()\n",
    "Y_max = Y[Y_max_index]\n",
    "Z_min_index = Z.argmin()\n",
    "Z_min = Z[Z_min_index]\n",
    "Z_max_index = Z.argmax()\n",
    "Z_max = Z[Z_max_index]\n",
    "\n",
    "print(f\"X_min: {X_min}\")\n",
    "print(f\"X_max: {X_max}\")\n",
    "print(f\"Y_min: {Y_min}\")\n",
    "print(f\"Y_max: {Y_max}\")\n",
    "print(f\"Z_min: {Z_min}\")\n",
    "print(f\"Z_max: {Z_max}\")\n",
    "\n",
    "data_all_shifted = pd.DataFrame(np.column_stack((X, Y, Z)))\n",
    "data_all_shifted = data_all_shifted.to_numpy()\n",
    "\n",
    "# Save the new points to vtk\n",
    "from pyevtk.hl import pointsToVTK\n",
    "pointsToVTK(\"LiDAR_InclineCave_TUBE_adjusted\", X, Y, Z)"
   ]
  },
  {
   "cell_type": "code",
   "execution_count": null,
   "metadata": {},
   "outputs": [],
   "source": [
    "from scipy.spatial import Delaunay\n",
    "from scipy.interpolate import LinearNDInterpolator\n",
    "\n",
    "permittivity_values = 7.6* np.ones_like(X)"
   ]
  },
  {
   "cell_type": "code",
   "execution_count": null,
   "metadata": {},
   "outputs": [],
   "source": [
    "#Grid\n",
    "# x_val = np.linspace(0, x, 5)\n",
    "# z_val = np.linspace(0, z, 5)\n",
    "# y_val = np.linspace(0, y_moon, 5)\n",
    "x_val = np.linspace(0, x, int(nx*scale))\n",
    "z_val = np.linspace(0, z, int(ny*scale))\n",
    "y_val = np.linspace(0, y_moon, int(nz*scale))"
   ]
  },
  {
   "cell_type": "code",
   "execution_count": null,
   "metadata": {},
   "outputs": [],
   "source": [
    "meshgrid_x, meshgrid_y, meshgrid_z = np.meshgrid(x_val, y_val, z_val, indexing='ij')\n",
    "points = np.vstack((meshgrid_x.flatten(), meshgrid_y.flatten(), meshgrid_z.flatten())).T\n",
    "\n",
    "# Create Delaunay triangulation\n",
    "tri = Delaunay(np.column_stack((X, Y, Z)))"
   ]
  },
  {
   "cell_type": "code",
   "execution_count": null,
   "metadata": {},
   "outputs": [
    {
     "data": {
      "text/plain": [
       "'f:\\\\Projects\\\\LunarLeaper\\\\LLGPR\\\\src\\\\Box.vtu'"
      ]
     },
     "metadata": {},
     "output_type": "display_data"
    }
   ],
   "source": [
    "pointsToVTK(\"3_Box\", meshgrid_x.flatten(), meshgrid_y.flatten(), meshgrid_z.flatten())"
   ]
  },
  {
   "cell_type": "code",
   "execution_count": null,
   "metadata": {},
   "outputs": [],
   "source": [
    "# Check which points are within the convex hull\n",
    "# Check for interpolation\n",
    "simplex_indices = tri.find_simplex(points)\n",
    "mask = simplex_indices >= 0"
   ]
  },
  {
   "cell_type": "code",
   "execution_count": null,
   "metadata": {},
   "outputs": [
    {
     "name": "stdout",
     "output_type": "stream",
     "text": [
      "Number of Points in Convex Hull: 3997\n",
      "Number of Points in Total: 3997\n"
     ]
    }
   ],
   "source": [
    "# x, y, z for just the mask\n",
    "x_mask = meshgrid_x.flatten()[mask]\n",
    "y_mask = meshgrid_y.flatten()[mask]\n",
    "z_mask = meshgrid_z.flatten()[mask]\n",
    "points_cave_edge = np.vstack((x_mask, y_mask, z_mask)).T\n",
    "print(f\"Number of Points in Convex Hull: {len(z_mask)}\")\n",
    "print(f\"Number of Points in Total: {len(points_cave_edge)}\")"
   ]
  },
  {
   "cell_type": "code",
   "execution_count": null,
   "metadata": {},
   "outputs": [],
   "source": [
    "# Defining the Minerals and Elements\n",
    "# Order: Electrical Permittivity, Electrical Conductivity, Magnetic Permeability, Magnetic Loss, \n",
    "# Weight Fraction for Regolith, Weight Fraction for Crust, Density (g/cm^3)\n",
    "eps_0 = 8.854e-12\n",
    "mu_0 = 4*np.pi*1e-7\n",
    "FeO = np.array([50, 37*eps_0, 1, 0.1*mu_0, 0.154, 0.205, 5.74])\n",
    "TiO2 = np.array([20, 80*eps_0, 1, 0.1*mu_0, 0.027, 0.035, 4.23])\n",
    "Al2O3 = np.array([10, 9*eps_0, 1, 0.1*mu_0, 0.145, 0.0825, 3.95])\n",
    "MgO = np.array([5, 9*eps_0, 1, 0.1*mu_0, 0.1, 0.0875, 3.58])\n",
    "SiO2 = np.array([3.58, 0.001*eps_0, 1.05, 0.02*mu_0, 0.44, 0.445, 2.65])\n",
    "CaO = np.array([5, 6*eps_0, 1, 0.1*mu_0, 0.105, 0.1, 3.35])\n",
    "Potassium = np.array([5, 4*eps_0, 1, 0.1*mu_0, 0.01, 0.01, 2.34])\n",
    "Thorium = np.array([5, 4*eps_0, 1, 0.1*mu_0, 0.01, 0.01, 11.72])\n",
    "\n",
    "# Defining the Volume Fractions for Regolith from the weight fractions and density\n",
    "wt_reg = np.array([FeO[4], TiO2[4], Al2O3[4], MgO[4], SiO2[4], CaO[4]])\n",
    "densities = np.array([FeO[-1], TiO2[-1], Al2O3[-1], MgO[-1], SiO2[-1], CaO[-1]])\n",
    "vol_fr_individual = wt_reg / densities\n",
    "vol_fr_regolith = vol_fr_individual / np.sum(vol_fr_individual)\n",
    "\n",
    "# Defining the Volume Fractions for Crust from the weight fractions\n",
    "wt_crust = np.array([FeO[5], TiO2[5], Al2O3[5], MgO[5], SiO2[5], CaO[5]])\n",
    "vol_fr_individual = wt_crust / densities\n",
    "vol_fr_crust = vol_fr_individual / np.sum(vol_fr_individual)"
   ]
  },
  {
   "cell_type": "code",
   "execution_count": null,
   "metadata": {},
   "outputs": [],
   "source": [
    "# Defining the Bruggerman's Mixing Model\n",
    "from scipy.optimize import fsolve\n",
    "def bruggerman_mixing_model(volume_fractions, epsilon_values):\n",
    "    def equation(epsilon_eff):\n",
    "        numerator = 0\n",
    "        denominator = 0\n",
    "        for i in range(len(volume_fractions)):\n",
    "            numerator += (epsilon_values[i] - epsilon_eff) * volume_fractions[i]\n",
    "            denominator += (epsilon_values[i] + 2 * epsilon_eff) * volume_fractions[i]\n",
    "        return numerator / denominator\n",
    "    \n",
    "    epsilon_eff = fsolve(equation, epsilon_values[0])\n",
    "    return epsilon_eff[0]\n",
    "\n",
    "epsilon_values = [FeO[0], TiO2[0], SiO2[0], Al2O3[0], CaO[0], MgO[0], Potassium[0], Thorium[0]]\n",
    "epsilon_regolith = bruggerman_mixing_model(vol_fr_regolith, epsilon_values)\n",
    "mu_regolith = np.mean([FeO[2], TiO2[2], SiO2[2], Al2O3[2], CaO[2], MgO[2], Potassium[2], Thorium[2]])\n",
    "sigma_e_regolith = np.mean([FeO[1], TiO2[1], SiO2[1], Al2O3[1], CaO[1], MgO[1], Potassium[1], Thorium[1]])\n",
    "sigma_m_regolith = np.mean([FeO[3], TiO2[3], SiO2[3], Al2O3[3], CaO[3], MgO[3], Potassium[3], Thorium[3]])\n",
    "\n",
    "epsilon_crust = bruggerman_mixing_model(vol_fr_crust, epsilon_values)\n",
    "mu_crust = mu_regolith\n",
    "sigma_e_crust = sigma_e_regolith\n",
    "sigma_m_crust = sigma_m_regolith"
   ]
  },
  {
   "cell_type": "code",
   "execution_count": 11,
   "metadata": {},
   "outputs": [
    {
     "name": "stdout",
     "output_type": "stream",
     "text": [
      "gprMax input file 'moon_lava_base_n4_2.in' generated.\n"
     ]
    }
   ],
   "source": [
    "with open('7_moon_true_heterogeneous_tube_filled.in', 'w') as f:\n",
    "\n",
    "    # Write the domain and discretization\n",
    "    f.write(f\"#domain: {x} {y} {z}\\n\")\n",
    "    f.write(f\"#dx_dy_dz: {dx} {dy} {dz}\\n\")\n",
    "    f.write(f\"#time_window: {time_window}\\n\")\n",
    "\n",
    "    # Define the GPR source\n",
    "    f.write(\"#waveform: ricker 1 50e6 ricker_wavelet\\n\")\n",
    "    f.write(f\"#hertzian_dipole: z {x/2 - 5} {y_moon} {z/2} ricker_wavelet\\n\")\n",
    "    \n",
    "    f.write(f\"#material: {epsilon_regolith} {sigma_e_regolith} {mu_regolith} {sigma_m_regolith} moon_regolith_material\\n\")\n",
    "    f.write(f\"#fractal_box: 0 {y_crust} 0 {x} {y_moon} {z} 2.5 1 1 1 1 moon_regolith_material moon_regolith\\n\")\n",
    "\n",
    "    f.write(f\"#material: {epsilon_crust} {sigma_e_crust} {mu_crust} {sigma_m_crust} moon_crust_material\\n\")\n",
    "    f.write(f\"#fractal_box: 0 0 0 {x} {y_crust} {z} 2.5 1 1 1 1 moon_crust_material moon_crust\\n\")\n",
    "\n",
    "    eps_r_value = 7.6\n",
    "    sigma_value = 1e-10\n",
    "    mu_r_value = 1.0\n",
    "    sigma_m_value = 0.0\n",
    "    f.write(f\"#material: {eps_r_value} {sigma_value} {mu_r_value} {sigma_m_value} moon_lava_tube \\n\")\n",
    "    # Dielectric smoothing needs to be turned off, add higher discretization for numerical stability\n",
    "\n",
    "    # Loop over each cell to define the materials\n",
    "    for i in range(len(x_mask)):\n",
    "        # Get the dielectric properties for the current cell\n",
    "        f.write(f\"#box: {x_mask[i]} {y_mask[i]} {z_mask[i]} {x_mask[i]+dx} {y_mask[i]+dy} {z_mask[i]+dz} moon_lava_tube n\\n\")\n",
    "\n",
    "    f.write(f\"#cylinder: {x/2 - 5} {y/2-10} {x/2+5} {y/2-10} {y/2-10} {z/2+5} 5 pec\\n\")\n",
    "\n",
    "    f.write(f\"#rx: {x/2 + 5} {y_moon} {z/2}\\n\")\n",
    "    f.write(f\"#geometry_view: 0 0 0 {x} {y} {z} {dx} {dy} {dz} 7_moon_true_heterogeneous_tube_filled n \\n\")\n",
    "\n",
    "# Output success message\n",
    "print(\"gprMax input file '7_moon_true_heterogeneous_tube_filled.in' generated.\")"
   ]
  },
  {
   "cell_type": "code",
   "execution_count": null,
   "metadata": {},
   "outputs": [],
   "source": []
  }
 ],
 "metadata": {
  "kernelspec": {
   "display_name": "Python 3",
   "language": "python",
   "name": "python3"
  },
  "language_info": {
   "codemirror_mode": {
    "name": "ipython",
    "version": 3
   },
   "file_extension": ".py",
   "mimetype": "text/x-python",
   "name": "python",
   "nbconvert_exporter": "python",
   "pygments_lexer": "ipython3",
   "version": "3.11.4"
  }
 },
 "nbformat": 4,
 "nbformat_minor": 2
}
