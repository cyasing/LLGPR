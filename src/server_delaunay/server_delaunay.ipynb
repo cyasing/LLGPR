{
 "cells": [
  {
   "cell_type": "code",
   "execution_count": 1,
   "metadata": {},
   "outputs": [
    {
     "name": "stdout",
     "output_type": "stream",
     "text": [
      "nx: 833, ny: 305, nz: 411\n",
      "Domain: 75.0 x 27.5 x 37.0\n",
      "Base Permittivity of Moon: 3.682561\n",
      "Frequency: 100000000.0\n",
      "Wavelength: 0.7816571130797291\n",
      "Grid: 0.09 x 0.09 x 0.09\n",
      "Time Window: 6e-07\n"
     ]
    }
   ],
   "source": [
    "import pandas as pd\n",
    "import numpy as np\n",
    "\n",
    "scale = 0.5\n",
    "\n",
    "# Domain\n",
    "x = 150*scale\n",
    "z = 74*scale\n",
    "y_air = 5*scale\n",
    "y_moon = 50*scale\n",
    "y = y_moon + y_air\n",
    "\n",
    "y_cave = 10\n",
    "x_co = 0.25\n",
    "x_step = 0.1\n",
    "y_gpr = 0.1\n",
    "\n",
    "# Reglith Layer\n",
    "y_regolith = 4.5\n",
    "\n",
    "# Crust Layer\n",
    "y_crust = y_moon - y_regolith\n",
    "\n",
    "# Frequency and Wavelength\n",
    "f_max = 2*100e6 # Maximum Relevant Frequency for the Ricker Wavelet\n",
    "c = 3e8\n",
    "\n",
    "# Permittivity and Density\n",
    "density = 2 # g/cm^3\n",
    "eps_bg = 1.919**density # Background Permittivity for Moon\n",
    "vel_bg = c / eps_bg**0.5\n",
    "\n",
    "lambda_0 = c / (f_max * eps_bg**0.5)\n",
    "\n",
    "# # Fresnel Zone - Radius\n",
    "# R = 0.5 * (lambda_0 * d)**0.5\n",
    "# y = 4 * R\n",
    "\n",
    "# Grid Descretization\n",
    "dx = np.round(lambda_0 / 17.3, 3) * 2\n",
    "dy = np.round(lambda_0 / 17.3, 3) * 2\n",
    "dz = np.round(lambda_0 / 17.3, 3) * 2\n",
    "\n",
    "nx = int(x / dx)\n",
    "ny = int(y / dy)\n",
    "ny_m = int(y_moon / dy)\n",
    "nz = int(z / dz)\n",
    "print(f\"nx: {nx}, ny: {ny}, nz: {nz}\")\n",
    "\n",
    "# x_grid, y_grid, z_grid = np.meshgrid(x_vals, y_vals, z_vals, indexing='xy')\n",
    "\n",
    "# Time Window\n",
    "# time_window = 2 * y_moon / vel_bg\n",
    "# time_window = 1e-6 # For Highland Basalt\n",
    "time_window = 6e-7 # For Mare Basalt\n",
    "\n",
    "# Print\n",
    "print(f\"Domain: {x} x {y} x {z}\")\n",
    "print(f\"Base Permittivity of Moon: {eps_bg}\")\n",
    "print(f\"Frequency: {f_max/2}\")\n",
    "print(f\"Wavelength: {lambda_0}\")\n",
    "# print(f\"Fresnel Zone Radius: {R}\")\n",
    "print(f\"Grid: {dx} x {dy} x {dz}\")\n",
    "print(f\"Time Window: {time_window}\")"
   ]
  },
  {
   "cell_type": "code",
   "execution_count": 2,
   "metadata": {},
   "outputs": [
    {
     "name": "stdout",
     "output_type": "stream",
     "text": [
      "y_regolith: 4.5\n",
      "y_crust: 20.5\n",
      "y_air: 2.5\n",
      "y_moon: 25.0\n",
      "y_cave: 10\n",
      "x_co: 0.25\n",
      "x_step: 0.1\n",
      "y_gpr: 0.1\n"
     ]
    }
   ],
   "source": [
    "print(f\"y_regolith: {y_regolith}\")\n",
    "print(f\"y_crust: {y_crust}\")\n",
    "print(f\"y_air: {y_air}\")\n",
    "print(f\"y_moon: {y_moon}\")\n",
    "print(f\"y_cave: {y_cave}\")\n",
    "print(f\"x_co: {x_co}\")\n",
    "print(f\"x_step: {x_step}\")\n",
    "print(f\"y_gpr: {y_gpr}\")"
   ]
  },
  {
   "cell_type": "code",
   "execution_count": 3,
   "metadata": {},
   "outputs": [],
   "source": [
    "#read boxes2.csv\n",
    "df = pd.read_csv(f'boxes_{int(1/scale)}_delaunay.csv')\n",
    "\n",
    "# Convert the DataFrame to a list of tuples\n",
    "cave_boxes = [\n",
    "    ((row['Start X'], row['Start Y'], row['Start Z']),\n",
    "     (row['End X'], row['End Y'], row['End Z']))\n",
    "    for index, row in df.iterrows()\n",
    "]\n",
    "num_boxes = len(cave_boxes)"
   ]
  },
  {
   "cell_type": "code",
   "execution_count": 4,
   "metadata": {},
   "outputs": [
    {
     "name": "stdout",
     "output_type": "stream",
     "text": [
      "Number of Boxes: 91496\n"
     ]
    }
   ],
   "source": [
    "print(f\"Number of Boxes: {num_boxes}\")"
   ]
  },
  {
   "cell_type": "code",
   "execution_count": 5,
   "metadata": {},
   "outputs": [],
   "source": [
    "with open(f'mare_tube_{int(1/scale)}_B_05_01_delaunay.in', 'w') as f:\n",
    "\n",
    "    # Write the domain and discretization\n",
    "    f.write(f\"#domain: {x} {y} {z}\\n\")\n",
    "    f.write(f\"#dx_dy_dz: {dx} {dy} {dz}\\n\")\n",
    "    f.write(f\"#time_window: {6e-7}\\n\")\n",
    "\n",
    "    # Define the GPR source\n",
    "    f.write(f\"#waveform: ricker 1 {f_max/2} ricker_wavelet\\n\")\n",
    "    f.write(f\"#hertzian_dipole: z {x/10} {y_moon + y_gpr} {z/2} ricker_wavelet\\n\")\n",
    "    \n",
    "    f.write(f\"#soil_gen_bruggeman_moon: 13 17.8 2.2 3.2 13.5 15.5 7.5 12.5 40.5 47.5 8.5 12.5 {f_max/2} soil_reg\\n\")\n",
    "    f.write(f\"#fractal_box: 0 {y_crust} 0 {x} {y_moon} {z} 1.5 1 1 1 25 soil_reg moon_regolith\\n\")\n",
    "\n",
    "    f.write(f\"#soil_gen_bruggeman_moon: 19 22 1 6 6 10.5 6 11.5 42 47 9.5 10.5 {f_max/2} rocks_crust\\n\")\n",
    "    f.write(f\"#fractal_box: 0 0 0 {x} {y_crust} {z} 1.5 1 1 1 25 rocks_crust moon_crust\\n\")\n",
    "\n",
    "    # Loop over each cell to define the materials\n",
    "    for i in range(num_boxes):\n",
    "        # Get the dielectric properties for the current cell\n",
    "        f.write(f\"#box: {cave_boxes[i][0][0]} {cave_boxes[i][0][1]} {cave_boxes[i][0][2]} {cave_boxes[i][1][0]} {cave_boxes[i][1][1]} {cave_boxes[i][1][2]} free_space\\n\")\n",
    "\n",
    "    f.write(f\"#rx: {x/10 + 2*x_co} {y_moon} {z/2}\\n\")\n",
    "    f.write(f\"#src_steps: {x_step} 0 0\\n#rx_steps: {x_step} 0 0\\n\")\n",
    "    f.write(f\"geometry_view: 0 0 0 {x} {y} {z} {dx} {dy} {dz} mare_tube_{int(1/scale)}_B_05_01 n \\n\")"
   ]
  },
  {
   "cell_type": "code",
   "execution_count": 6,
   "metadata": {},
   "outputs": [],
   "source": [
    "with open(f'mare_tube_{int(1/scale)}_B_05_0_delaunay.in', 'w') as f:\n",
    "\n",
    "    # Write the domain and discretization\n",
    "    f.write(f\"#domain: {x} {y} {z}\\n\")\n",
    "    f.write(f\"#dx_dy_dz: {dx} {dy} {dz}\\n\")\n",
    "    f.write(f\"#time_window: {6e-7}\\n\")\n",
    "\n",
    "    # Define the GPR source\n",
    "    f.write(f\"#waveform: ricker 1 {f_max/2} ricker_wavelet\\n\")\n",
    "    f.write(f\"#hertzian_dipole: z {x/10} {y_moon} {z/2} ricker_wavelet\\n\")\n",
    "    \n",
    "    f.write(f\"#soil_gen_bruggeman_moon: 13 17.8 2.2 3.2 13.5 15.5 7.5 12.5 40.5 47.5 8.5 12.5 {f_max/2} soil_reg\\n\")\n",
    "    f.write(f\"#fractal_box: 0 {y_crust} 0 {x} {y_moon} {z} 1.5 1 1 1 25 soil_reg moon_regolith\\n\")\n",
    "\n",
    "    f.write(f\"#soil_gen_bruggeman_moon: 19 22 1 6 6 10.5 6 11.5 42 47 9.5 10.5 {f_max/2} rocks_crust\\n\")\n",
    "    f.write(f\"#fractal_box: 0 0 0 {x} {y_crust} {z} 1.5 1 1 1 25 rocks_crust moon_crust\\n\")\n",
    "\n",
    "    # Loop over each cell to define the materials\n",
    "    for i in range(num_boxes):\n",
    "        # Get the dielectric properties for the current cell\n",
    "        f.write(f\"#box: {cave_boxes[i][0][0]} {cave_boxes[i][0][1]} {cave_boxes[i][0][2]} {cave_boxes[i][1][0]} {cave_boxes[i][1][1]} {cave_boxes[i][1][2]} free_space\\n\")\n",
    "\n",
    "    f.write(f\"#rx: {x/10 + 2*x_co} {y_moon} {z/2}\\n\")\n",
    "    f.write(f\"#src_steps: {x_step} 0 0\\n#rx_steps: {x_step} 0 0\\n\")\n",
    "    f.write(f\"geometry_view: 0 0 0 {x} {y} {z} {dx} {dy} {dz} mare_tube_{int(1/scale)}_B_05_0 n \\n\")"
   ]
  },
  {
   "cell_type": "code",
   "execution_count": 7,
   "metadata": {},
   "outputs": [],
   "source": [
    "with open(f'hland_tube_{int(1/scale)}_B_05_01_delaunay.in', 'w') as f:\n",
    "\n",
    "    # Write the domain and discretization\n",
    "    f.write(f\"#domain: {x} {y} {z}\\n\")\n",
    "    f.write(f\"#dx_dy_dz: {dx} {dy} {dz}\\n\")\n",
    "    f.write(f\"#time_window: {time_window}\\n\")\n",
    "\n",
    "    # Define the GPR source\n",
    "    f.write(f\"#waveform: ricker 1 {f_max/2} ricker_wavelet\\n\")\n",
    "    f.write(f\"#hertzian_dipole: z {x/10} {y_moon + y_gpr} {z/2} ricker_wavelet\\n\")\n",
    "    \n",
    "    f.write(f\"#soil_gen_bruggeman_moon: 1 10 0.1 3 24 34 1 9.5 41.5 48.5 11 21.5 {f_max/2} soil_reg\\n\")\n",
    "    f.write(f\"#fractal_box: 0 {y_crust} 0 {x} {y_moon} {z} 1.5 1 1 1 25 soil_reg moon_regolith\\n\")\n",
    "\n",
    "    f.write(f\"#soil_gen_bruggeman_moon: 5 10.01 0.4 1.59 17.9 28 6.9 12.5 44.4 48.4 11.1 15 {f_max/2} rocks_crust\\n\")\n",
    "    f.write(f\"#fractal_box: 0 0 0 {x} {y_crust} {z} 1.5 1 1 1 25 rocks_crust moon_crust\\n\")\n",
    "\n",
    "    # Loop over each cell to define the materials\n",
    "    for i in range(num_boxes):\n",
    "        # Get the dielectric properties for the current cell\n",
    "        f.write(f\"#box: {cave_boxes[i][0][0]} {cave_boxes[i][0][1]} {cave_boxes[i][0][2]} {cave_boxes[i][1][0]} {cave_boxes[i][1][1]} {cave_boxes[i][1][2]} free_space\\n\")\n",
    "\n",
    "    f.write(f\"#rx: {x/10 + 2*x_co} {y_moon} {z/2}\\n\")\n",
    "    f.write(f\"#src_steps: {x_step} 0 0\\n#rx_steps: {x_step} 0 0\\n\")\n",
    "    f.write(f\"geometry_view: 0 0 0 {x} {y} {z} {dx} {dy} {dz} hland_tube_{int(1/scale)}_B_05_01 n \\n\")"
   ]
  },
  {
   "cell_type": "code",
   "execution_count": 8,
   "metadata": {},
   "outputs": [],
   "source": [
    "with open(f'hland_tube_{int(1/scale)}_B_05_0_delaunay.in', 'w') as f:\n",
    "\n",
    "    # Write the domain and discretization\n",
    "    f.write(f\"#domain: {x} {y} {z}\\n\")\n",
    "    f.write(f\"#dx_dy_dz: {dx} {dy} {dz}\\n\")\n",
    "    f.write(f\"#time_window: {time_window}\\n\")\n",
    "\n",
    "    # Define the GPR source\n",
    "    f.write(f\"#waveform: ricker 1 {f_max/2} ricker_wavelet\\n\")\n",
    "    f.write(f\"#hertzian_dipole: z {x/10} {y_moon} {z/2} ricker_wavelet\\n\")\n",
    "    \n",
    "    f.write(f\"#soil_gen_bruggeman_moon: 1 10 0.1 3 24 34 1 9.5 41.5 48.5 11 21.5 {f_max/2} soil_reg\\n\")\n",
    "    f.write(f\"#fractal_box: 0 {y_crust} 0 {x} {y_moon} {z} 1.5 1 1 1 25 soil_reg moon_regolith\\n\")\n",
    "\n",
    "    f.write(f\"#soil_gen_bruggeman_moon: 5 10.01 0.4 1.59 17.9 28 6.9 12.5 44.4 48.4 11.1 15 {f_max/2} rocks_crust\\n\")\n",
    "    f.write(f\"#fractal_box: 0 0 0 {x} {y_crust} {z} 1.5 1 1 1 25 rocks_crust moon_crust\\n\")\n",
    "\n",
    "    # Loop over each cell to define the materials\n",
    "    for i in range(num_boxes):\n",
    "        # Get the dielectric properties for the current cell\n",
    "        f.write(f\"#box: {cave_boxes[i][0][0]} {cave_boxes[i][0][1]} {cave_boxes[i][0][2]} {cave_boxes[i][1][0]} {cave_boxes[i][1][1]} {cave_boxes[i][1][2]} free_space\\n\")\n",
    "\n",
    "    f.write(f\"#rx: {x/10 + 2*x_co} {y_moon} {z/2}\\n\")\n",
    "    f.write(f\"#src_steps: {x_step} 0 0\\n#rx_steps: {x_step} 0 0\\n\")\n",
    "    f.write(f\"geometry_view: 0 0 0 {x} {y} {z} {dx} {dy} {dz} hland_tube_{int(1/scale)}_B_05_0 n \\n\")"
   ]
  }
 ],
 "metadata": {
  "kernelspec": {
   "display_name": "Python 3",
   "language": "python",
   "name": "python3"
  },
  "language_info": {
   "codemirror_mode": {
    "name": "ipython",
    "version": 3
   },
   "file_extension": ".py",
   "mimetype": "text/x-python",
   "name": "python",
   "nbconvert_exporter": "python",
   "pygments_lexer": "ipython3",
   "version": "3.11.4"
  }
 },
 "nbformat": 4,
 "nbformat_minor": 2
}
